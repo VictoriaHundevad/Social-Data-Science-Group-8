{
 "cells": [
  {
   "cell_type": "markdown",
   "metadata": {},
   "source": [
    "# Machine Learning analysis"
   ]
  },
  {
   "cell_type": "code",
   "execution_count": 34,
   "metadata": {},
   "outputs": [
    {
     "data": {
      "text/html": [
       "<div>\n",
       "<style scoped>\n",
       "    .dataframe tbody tr th:only-of-type {\n",
       "        vertical-align: middle;\n",
       "    }\n",
       "\n",
       "    .dataframe tbody tr th {\n",
       "        vertical-align: top;\n",
       "    }\n",
       "\n",
       "    .dataframe thead th {\n",
       "        text-align: right;\n",
       "    }\n",
       "</style>\n",
       "<table border=\"1\" class=\"dataframe\">\n",
       "  <thead>\n",
       "    <tr style=\"text-align: right;\">\n",
       "      <th></th>\n",
       "      <th>id</th>\n",
       "      <th>depart_date_time</th>\n",
       "      <th>seats</th>\n",
       "      <th>free_seats</th>\n",
       "      <th>user_id</th>\n",
       "      <th>handle_fee_rate</th>\n",
       "      <th>handle_fee_ceiling_factor</th>\n",
       "      <th>accept_cash</th>\n",
       "      <th>accept_online_payment</th>\n",
       "      <th>quick_booking</th>\n",
       "      <th>...</th>\n",
       "      <th>time_minute</th>\n",
       "      <th>time_minute_hour</th>\n",
       "      <th>time_cat</th>\n",
       "      <th>Night</th>\n",
       "      <th>Morning</th>\n",
       "      <th>Forenoon</th>\n",
       "      <th>Noon</th>\n",
       "      <th>Afternoon</th>\n",
       "      <th>Evening</th>\n",
       "      <th>Late_evening</th>\n",
       "    </tr>\n",
       "  </thead>\n",
       "  <tbody>\n",
       "    <tr>\n",
       "      <th>0</th>\n",
       "      <td>7385002</td>\n",
       "      <td>2018-08-07T15:30:00+02:00</td>\n",
       "      <td>2</td>\n",
       "      <td>0</td>\n",
       "      <td>269889</td>\n",
       "      <td>12.5</td>\n",
       "      <td>100</td>\n",
       "      <td>False</td>\n",
       "      <td>True</td>\n",
       "      <td>True</td>\n",
       "      <td>...</td>\n",
       "      <td>30</td>\n",
       "      <td>15.50</td>\n",
       "      <td>Afternoon</td>\n",
       "      <td>0</td>\n",
       "      <td>0</td>\n",
       "      <td>0</td>\n",
       "      <td>0</td>\n",
       "      <td>1</td>\n",
       "      <td>0</td>\n",
       "      <td>0</td>\n",
       "    </tr>\n",
       "    <tr>\n",
       "      <th>1</th>\n",
       "      <td>7385006</td>\n",
       "      <td>2018-08-07T14:00:00+02:00</td>\n",
       "      <td>3</td>\n",
       "      <td>3</td>\n",
       "      <td>1399528</td>\n",
       "      <td>12.5</td>\n",
       "      <td>100</td>\n",
       "      <td>False</td>\n",
       "      <td>True</td>\n",
       "      <td>True</td>\n",
       "      <td>...</td>\n",
       "      <td>0</td>\n",
       "      <td>14.00</td>\n",
       "      <td>Noon</td>\n",
       "      <td>0</td>\n",
       "      <td>0</td>\n",
       "      <td>0</td>\n",
       "      <td>1</td>\n",
       "      <td>0</td>\n",
       "      <td>0</td>\n",
       "      <td>0</td>\n",
       "    </tr>\n",
       "    <tr>\n",
       "      <th>2</th>\n",
       "      <td>7385007</td>\n",
       "      <td>2018-08-09T08:30:00+02:00</td>\n",
       "      <td>1</td>\n",
       "      <td>0</td>\n",
       "      <td>1438456</td>\n",
       "      <td>12.5</td>\n",
       "      <td>100</td>\n",
       "      <td>False</td>\n",
       "      <td>True</td>\n",
       "      <td>True</td>\n",
       "      <td>...</td>\n",
       "      <td>30</td>\n",
       "      <td>8.50</td>\n",
       "      <td>Morning</td>\n",
       "      <td>0</td>\n",
       "      <td>1</td>\n",
       "      <td>0</td>\n",
       "      <td>0</td>\n",
       "      <td>0</td>\n",
       "      <td>0</td>\n",
       "      <td>0</td>\n",
       "    </tr>\n",
       "    <tr>\n",
       "      <th>3</th>\n",
       "      <td>7385010</td>\n",
       "      <td>2018-08-07T06:45:00+02:00</td>\n",
       "      <td>3</td>\n",
       "      <td>3</td>\n",
       "      <td>906186</td>\n",
       "      <td>12.5</td>\n",
       "      <td>100</td>\n",
       "      <td>False</td>\n",
       "      <td>True</td>\n",
       "      <td>True</td>\n",
       "      <td>...</td>\n",
       "      <td>45</td>\n",
       "      <td>6.75</td>\n",
       "      <td>Morning</td>\n",
       "      <td>0</td>\n",
       "      <td>1</td>\n",
       "      <td>0</td>\n",
       "      <td>0</td>\n",
       "      <td>0</td>\n",
       "      <td>0</td>\n",
       "      <td>0</td>\n",
       "    </tr>\n",
       "    <tr>\n",
       "      <th>4</th>\n",
       "      <td>7385011</td>\n",
       "      <td>2018-08-10T16:15:00+02:00</td>\n",
       "      <td>2</td>\n",
       "      <td>1</td>\n",
       "      <td>2318925</td>\n",
       "      <td>12.5</td>\n",
       "      <td>100</td>\n",
       "      <td>False</td>\n",
       "      <td>True</td>\n",
       "      <td>False</td>\n",
       "      <td>...</td>\n",
       "      <td>15</td>\n",
       "      <td>16.25</td>\n",
       "      <td>Afternoon</td>\n",
       "      <td>0</td>\n",
       "      <td>0</td>\n",
       "      <td>0</td>\n",
       "      <td>0</td>\n",
       "      <td>1</td>\n",
       "      <td>0</td>\n",
       "      <td>0</td>\n",
       "    </tr>\n",
       "  </tbody>\n",
       "</table>\n",
       "<p>5 rows × 61 columns</p>\n",
       "</div>"
      ],
      "text/plain": [
       "        id           depart_date_time  seats  free_seats  user_id  \\\n",
       "0  7385002  2018-08-07T15:30:00+02:00      2           0   269889   \n",
       "1  7385006  2018-08-07T14:00:00+02:00      3           3  1399528   \n",
       "2  7385007  2018-08-09T08:30:00+02:00      1           0  1438456   \n",
       "3  7385010  2018-08-07T06:45:00+02:00      3           3   906186   \n",
       "4  7385011  2018-08-10T16:15:00+02:00      2           1  2318925   \n",
       "\n",
       "   handle_fee_rate  handle_fee_ceiling_factor  accept_cash  \\\n",
       "0             12.5                        100        False   \n",
       "1             12.5                        100        False   \n",
       "2             12.5                        100        False   \n",
       "3             12.5                        100        False   \n",
       "4             12.5                        100        False   \n",
       "\n",
       "   accept_online_payment  quick_booking      ...       time_minute  \\\n",
       "0                   True           True      ...                30   \n",
       "1                   True           True      ...                 0   \n",
       "2                   True           True      ...                30   \n",
       "3                   True           True      ...                45   \n",
       "4                   True          False      ...                15   \n",
       "\n",
       "   time_minute_hour   time_cat  Night  Morning  Forenoon  Noon  Afternoon  \\\n",
       "0             15.50  Afternoon      0        0         0     0          1   \n",
       "1             14.00       Noon      0        0         0     1          0   \n",
       "2              8.50    Morning      0        1         0     0          0   \n",
       "3              6.75    Morning      0        1         0     0          0   \n",
       "4             16.25  Afternoon      0        0         0     0          1   \n",
       "\n",
       "   Evening  Late_evening  \n",
       "0        0             0  \n",
       "1        0             0  \n",
       "2        0             0  \n",
       "3        0             0  \n",
       "4        0             0  \n",
       "\n",
       "[5 rows x 61 columns]"
      ]
     },
     "execution_count": 34,
     "metadata": {},
     "output_type": "execute_result"
    }
   ],
   "source": [
    "import pandas as pd\n",
    "df = pd.read_csv('GoMore_Data_DK_270818.csv', sep=',', low_memory=False)"
   ]
  },
  {
   "cell_type": "code",
   "execution_count": 35,
   "metadata": {},
   "outputs": [
    {
     "data": {
      "text/html": [
       "<div>\n",
       "<style scoped>\n",
       "    .dataframe tbody tr th:only-of-type {\n",
       "        vertical-align: middle;\n",
       "    }\n",
       "\n",
       "    .dataframe tbody tr th {\n",
       "        vertical-align: top;\n",
       "    }\n",
       "\n",
       "    .dataframe thead th {\n",
       "        text-align: right;\n",
       "    }\n",
       "</style>\n",
       "<table border=\"1\" class=\"dataframe\">\n",
       "  <thead>\n",
       "    <tr style=\"text-align: right;\">\n",
       "      <th></th>\n",
       "      <th>seats</th>\n",
       "      <th>free_seats</th>\n",
       "      <th>duration</th>\n",
       "      <th>kids</th>\n",
       "      <th>music</th>\n",
       "      <th>animals</th>\n",
       "      <th>comfort</th>\n",
       "      <th>smoking</th>\n",
       "      <th>weekday</th>\n",
       "      <th>SJ_dep_int</th>\n",
       "      <th>...</th>\n",
       "      <th>distance_KM</th>\n",
       "      <th>taken_seats</th>\n",
       "      <th>toll_road_bool</th>\n",
       "      <th>Night</th>\n",
       "      <th>Morning</th>\n",
       "      <th>Forenoon</th>\n",
       "      <th>Noon</th>\n",
       "      <th>Afternoon</th>\n",
       "      <th>Evening</th>\n",
       "      <th>Late_evening</th>\n",
       "    </tr>\n",
       "  </thead>\n",
       "  <tbody>\n",
       "    <tr>\n",
       "      <th>0</th>\n",
       "      <td>2</td>\n",
       "      <td>0</td>\n",
       "      <td>9644</td>\n",
       "      <td>1</td>\n",
       "      <td>1</td>\n",
       "      <td>1</td>\n",
       "      <td>0</td>\n",
       "      <td>0</td>\n",
       "      <td>1</td>\n",
       "      <td>1</td>\n",
       "      <td>...</td>\n",
       "      <td>271.775</td>\n",
       "      <td>2</td>\n",
       "      <td>1</td>\n",
       "      <td>0</td>\n",
       "      <td>0</td>\n",
       "      <td>0</td>\n",
       "      <td>0</td>\n",
       "      <td>1</td>\n",
       "      <td>0</td>\n",
       "      <td>0</td>\n",
       "    </tr>\n",
       "    <tr>\n",
       "      <th>1</th>\n",
       "      <td>3</td>\n",
       "      <td>3</td>\n",
       "      <td>14325</td>\n",
       "      <td>0</td>\n",
       "      <td>0</td>\n",
       "      <td>0</td>\n",
       "      <td>1</td>\n",
       "      <td>0</td>\n",
       "      <td>1</td>\n",
       "      <td>0</td>\n",
       "      <td>...</td>\n",
       "      <td>343.083</td>\n",
       "      <td>0</td>\n",
       "      <td>1</td>\n",
       "      <td>0</td>\n",
       "      <td>0</td>\n",
       "      <td>0</td>\n",
       "      <td>1</td>\n",
       "      <td>0</td>\n",
       "      <td>0</td>\n",
       "      <td>0</td>\n",
       "    </tr>\n",
       "    <tr>\n",
       "      <th>2</th>\n",
       "      <td>1</td>\n",
       "      <td>0</td>\n",
       "      <td>9520</td>\n",
       "      <td>0</td>\n",
       "      <td>0</td>\n",
       "      <td>0</td>\n",
       "      <td>0</td>\n",
       "      <td>0</td>\n",
       "      <td>3</td>\n",
       "      <td>1</td>\n",
       "      <td>...</td>\n",
       "      <td>268.189</td>\n",
       "      <td>1</td>\n",
       "      <td>1</td>\n",
       "      <td>0</td>\n",
       "      <td>1</td>\n",
       "      <td>0</td>\n",
       "      <td>0</td>\n",
       "      <td>0</td>\n",
       "      <td>0</td>\n",
       "      <td>0</td>\n",
       "    </tr>\n",
       "    <tr>\n",
       "      <th>3</th>\n",
       "      <td>3</td>\n",
       "      <td>3</td>\n",
       "      <td>4104</td>\n",
       "      <td>1</td>\n",
       "      <td>1</td>\n",
       "      <td>0</td>\n",
       "      <td>1</td>\n",
       "      <td>0</td>\n",
       "      <td>1</td>\n",
       "      <td>0</td>\n",
       "      <td>...</td>\n",
       "      <td>73.159</td>\n",
       "      <td>0</td>\n",
       "      <td>0</td>\n",
       "      <td>0</td>\n",
       "      <td>1</td>\n",
       "      <td>0</td>\n",
       "      <td>0</td>\n",
       "      <td>0</td>\n",
       "      <td>0</td>\n",
       "      <td>0</td>\n",
       "    </tr>\n",
       "    <tr>\n",
       "      <th>4</th>\n",
       "      <td>2</td>\n",
       "      <td>1</td>\n",
       "      <td>3502</td>\n",
       "      <td>1</td>\n",
       "      <td>1</td>\n",
       "      <td>0</td>\n",
       "      <td>1</td>\n",
       "      <td>0</td>\n",
       "      <td>4</td>\n",
       "      <td>0</td>\n",
       "      <td>...</td>\n",
       "      <td>74.306</td>\n",
       "      <td>1</td>\n",
       "      <td>0</td>\n",
       "      <td>0</td>\n",
       "      <td>0</td>\n",
       "      <td>0</td>\n",
       "      <td>0</td>\n",
       "      <td>1</td>\n",
       "      <td>0</td>\n",
       "      <td>0</td>\n",
       "    </tr>\n",
       "  </tbody>\n",
       "</table>\n",
       "<p>5 rows × 30 columns</p>\n",
       "</div>"
      ],
      "text/plain": [
       "   seats  free_seats  duration  kids  music  animals  comfort  smoking  \\\n",
       "0      2           0      9644     1      1        1        0        0   \n",
       "1      3           3     14325     0      0        0        1        0   \n",
       "2      1           0      9520     0      0        0        0        0   \n",
       "3      3           3      4104     1      1        0        1        0   \n",
       "4      2           1      3502     1      1        0        1        0   \n",
       "\n",
       "   weekday  SJ_dep_int      ...       distance_KM  taken_seats  \\\n",
       "0        1           1      ...           271.775            2   \n",
       "1        1           0      ...           343.083            0   \n",
       "2        3           1      ...           268.189            1   \n",
       "3        1           0      ...            73.159            0   \n",
       "4        4           0      ...            74.306            1   \n",
       "\n",
       "   toll_road_bool  Night  Morning  Forenoon  Noon  Afternoon  Evening  \\\n",
       "0               1      0        0         0     0          1        0   \n",
       "1               1      0        0         0     1          0        0   \n",
       "2               1      0        1         0     0          0        0   \n",
       "3               0      0        1         0     0          0        0   \n",
       "4               0      0        0         0     0          1        0   \n",
       "\n",
       "   Late_evening  \n",
       "0             0  \n",
       "1             0  \n",
       "2             0  \n",
       "3             0  \n",
       "4             0  \n",
       "\n",
       "[5 rows x 30 columns]"
      ]
     },
     "execution_count": 35,
     "metadata": {},
     "output_type": "execute_result"
    }
   ],
   "source": [
    "sample = df.drop(['id', 'depart_date_time', 'handle_fee_rate', 'handle_fee_ceiling_factor', 'accept_cash', 'accept_online_payment',\n",
    "        'currency_id', 'id_arr', 'latitude_arr', 'longitude_arr', 'name_arr', \n",
    "        'id_dep', 'latitude_dep', 'longitude_dep', 'name_dep', 'toll_road', 'time', 'date',\n",
    "        'accept_cash', 'accept_online_payment', 'time_hour', 'time_minute', 'time_minute_hour',\n",
    "                  'detour_preference', 'toll_road', 'time_hour', 'time_minute', 'time_minute_hour',\n",
    "                  'SJ_dep', 'SJ_arr', 'quick_booking', 'flex_booking', 'time_cat',\n",
    "                 'DKK_per_KM', 'user_id', 'year', 'month'], axis=1)"
   ]
  },
  {
   "cell_type": "code",
   "execution_count": 37,
   "metadata": {},
   "outputs": [],
   "source": [
    "X = sample.drop(['price_DKK'], axis=1).values\n",
    "y = sample['price_DKK'].values"
   ]
  },
  {
   "cell_type": "code",
   "execution_count": 38,
   "metadata": {},
   "outputs": [
    {
     "data": {
      "text/plain": [
       "(13401, 29)"
      ]
     },
     "execution_count": 38,
     "metadata": {},
     "output_type": "execute_result"
    }
   ],
   "source": [
    "X.shape #29 features"
   ]
  },
  {
   "cell_type": "code",
   "execution_count": 39,
   "metadata": {},
   "outputs": [],
   "source": [
    "#split into train and test data, 80-20\n",
    "from sklearn.model_selection import train_test_split\n",
    "X_train, X_test, y_train, y_test = train_test_split(\n",
    "    X, y, test_size=0.2, random_state=1) "
   ]
  },
  {
   "cell_type": "code",
   "execution_count": 40,
   "metadata": {},
   "outputs": [],
   "source": [
    "from sklearn.preprocessing import StandardScaler\n",
    "from sklearn.linear_model import LinearRegression\n",
    "from sklearn.pipeline import make_pipeline\n",
    "import numpy as np\n",
    "from sklearn.model_selection import cross_val_score #cross validation (gør kfold selv)\n",
    "from sklearn.linear_model import Ridge\n",
    "from sklearn.linear_model import Lasso\n",
    "from sklearn.linear_model import ElasticNet"
   ]
  },
  {
   "cell_type": "markdown",
   "metadata": {},
   "source": [
    "## OLS"
   ]
  },
  {
   "cell_type": "code",
   "execution_count": 41,
   "metadata": {},
   "outputs": [
    {
     "name": "stdout",
     "output_type": "stream",
     "text": [
      "21.59890582089659\n",
      "14.122508029691112\n",
      "20.97968453673643\n",
      "13.720459663298643\n"
     ]
    }
   ],
   "source": [
    "from sklearn.metrics import mean_squared_error as mse\n",
    "from sklearn.metrics import mean_absolute_error as mae\n",
    "import math\n",
    "\n",
    "#print mae and rmse for OLS in train and test data\n",
    "pipe_lr = make_pipeline(StandardScaler(), LinearRegression())\n",
    "reg = pipe_lr.fit(X_train, y_train)\n",
    "rmse_ols_train = math.sqrt(mse(reg.predict(X_train),y_train))\n",
    "print(rmse_ols_train)\n",
    "mae_ols_train = mae(reg.predict(X_train),y_train)\n",
    "print(mae_ols_train)\n",
    "rmse_ols_test = math.sqrt(mse(reg.predict(X_test),y_test))\n",
    "print(rmse_ols_test)\n",
    "mae_ols_test = mae(reg.predict(X_test),y_test)\n",
    "print(mae_ols_test)"
   ]
  },
  {
   "cell_type": "markdown",
   "metadata": {},
   "source": [
    "### OLS residual plot"
   ]
  },
  {
   "cell_type": "code",
   "execution_count": 190,
   "metadata": {
    "scrolled": true
   },
   "outputs": [
    {
     "data": {
      "image/png": "[encoded data removed]",
      "text/plain": [
       "<Figure size 432x288 with 1 Axes>"
      ]
     },
     "metadata": {},
     "output_type": "display_data"
    }
   ],
   "source": [
    "from sklearn.linear_model import LinearRegression\n",
    "reg = pipe_lr.fit(X_train, y_train)\n",
    "y_train_pred = reg.predict(X_train)\n",
    "y_test_pred = reg.predict(X_test)\n",
    "\n",
    "#residual plot\n",
    "plt.scatter(x=y_train_pred, y = y_train_pred - y_train, c='#0d6dae', marker='o', edgecolor='white',label='Training data')\n",
    "plt.scatter(x=y_test_pred, y = y_test_pred - y_test, c='#95d6bb', marker='o', edgecolor='white',\n",
    "           label='Test data')\n",
    "sns.set_style('white')\n",
    "sns.despine(left=False, top=True, right=True, bottom=False)\n",
    "sns.set_context('paper')\n",
    "plt.xlabel('Predicted values', fontsize=13)\n",
    "plt.ylabel('Residuals', fontsize=13)\n",
    "plt.hlines(y=0, xmin=-120, xmax=400, color='black', lw=1, linestyles='dotted')\n",
    "plt.title('OLS residual plot', fontsize=15)\n",
    "plt.legend(loc='upper left')\n",
    "plt.savefig(\"res_plot2.png\")"
   ]
  },
  {
   "cell_type": "markdown",
   "metadata": {},
   "source": [
    "## Cross validation: Lasso, Ridge and ElasticNet"
   ]
  },
  {
   "cell_type": "code",
   "execution_count": 43,
   "metadata": {},
   "outputs": [],
   "source": [
    "cv_lasso_rmse =  []\n",
    "cv_lasso_mae = []\n",
    "cv_ridge_rmse = []\n",
    "cv_ridge_mae = []\n",
    "cv_ela_rmse = []\n",
    "cv_ela_mae = []\n",
    "ela_net_combs = []\n",
    "\n",
    "alphas = np.logspace(-2, 1, 15) #set hyperparameter space for OLS, Lasso, Ridge\n",
    "lambdas = np.logspace(-2, 0, 15) #set extra hyperparameter space for ElaNet - ændr denne til at være mellem 0 og 1\n",
    "\n",
    "for alpha_1 in alphas:\n",
    "    \n",
    "    pipe_lasso = make_pipeline(StandardScaler(), Lasso(alpha=alpha_1))\n",
    "    scores_lasso_rmse = cross_val_score(pipe_lasso, X_train, y_train, cv=5, scoring='neg_mean_squared_error')\n",
    "    scores_lasso_mae = cross_val_score(pipe_lasso, X_train, y_train, cv=5, scoring='neg_mean_absolute_error')\n",
    "    cv_lasso_rmse.append(list(map(lambda x: math.sqrt(-1*x), scores_lasso_rmse)))\n",
    "    cv_lasso_mae.append(list(-1*scores_lasso_mae))\n",
    "    \n",
    "    pipe_ridge = make_pipeline(StandardScaler(), Ridge(alpha=alpha_1))\n",
    "    scores_ridge_rmse = cross_val_score(pipe_ridge, X_train, y_train, cv=5, scoring='neg_mean_squared_error')\n",
    "    scores_ridge_mae = cross_val_score(pipe_ridge, X_train, y_train, cv=5, scoring='neg_mean_absolute_error')\n",
    "    cv_ridge_rmse.append(list(map(lambda x: math.sqrt(-1*x), scores_ridge_rmse)))\n",
    "    cv_ridge_mae.append(list(-1*scores_ridge_mae))\n",
    "    \n",
    "    for alpha_2 in lambdas:\n",
    "        pipe_ela = make_pipeline(StandardScaler(), ElasticNet(alpha=alpha_1, l1_ratio=alpha_2))\n",
    "        scores_ela_rmse = cross_val_score(pipe_ela, X_train, y_train, cv=5, scoring='neg_mean_squared_error')\n",
    "        scores_ela_mae = cross_val_score(pipe_ela, X_train, y_train, cv=5, scoring='neg_mean_absolute_error')\n",
    "        cv_ela_rmse.append(list(map(lambda x: math.sqrt(-1*x), scores_ela_rmse)))\n",
    "        cv_ela_mae.append(list(-1*scores_ela_mae))\n",
    "        ela_net_combs.append((alpha_1, alpha_2))"
   ]
  },
  {
   "cell_type": "code",
   "execution_count": 44,
   "metadata": {
    "scrolled": true
   },
   "outputs": [
    {
     "name": "stdout",
     "output_type": "stream",
     "text": [
      "0.117877    21.673295\n",
      "dtype: float64\n",
      "0.19307    14.158199\n",
      "dtype: float64\n",
      "10.0    21.678236\n",
      "dtype: float64\n",
      "0.01    14.171082\n",
      "dtype: float64\n"
     ]
    }
   ],
   "source": [
    "#print optimal values of lambda for Lasso and Ridge\n",
    "optimal_lasso_rmse = pd.DataFrame(cv_lasso_rmse, index=alphas).mean(axis=1).nsmallest(1)\n",
    "print(optimal_lasso_rmse)\n",
    "optimal_lasso_mae = pd.DataFrame(cv_lasso_mae, index=alphas).mean(axis=1).nsmallest(1)\n",
    "print(optimal_lasso_mae)\n",
    "optimal_ridge_rmse = pd.DataFrame(cv_ridge_rmse, index=alphas).mean(axis=1).nsmallest(1)\n",
    "print(optimal_ridge_rmse)\n",
    "optimal_ridge_mae = pd.DataFrame(cv_ridge_mae, index=alphas).mean(axis=1).nsmallest(1)\n",
    "print(optimal_ridge_mae)"
   ]
  },
  {
   "cell_type": "code",
   "execution_count": 48,
   "metadata": {},
   "outputs": [
    {
     "name": "stdout",
     "output_type": "stream",
     "text": [
      "Lasso_rmse 21.60525080567279\n",
      "Lasso_mae 14.12170129304372\n",
      "Ridge_rmse 21.598845137946284\n",
      "Ridge_mae 14.121586670256365\n"
     ]
    }
   ],
   "source": [
    "#print rmse and mae for Lasso and Ridge in train data\n",
    "pipe_lasso_optimal_rmse = make_pipeline(StandardScaler(),\n",
    "                           Lasso(alpha=optimal_lasso_rmse.index[0]))\n",
    "pipe_lasso_optimal_mae = make_pipeline(StandardScaler(),\n",
    "                           Lasso(alpha=optimal_lasso_mae.index[0]))\n",
    "pipe_ridge_optimal_rmse = make_pipeline(StandardScaler(),\n",
    "                           Ridge(alpha=optimal_ridge_rmse.index[0]))\n",
    "pipe_ridge_optimal_mae = make_pipeline(StandardScaler(),\n",
    "                           Ridge(alpha=optimal_ridge_mae.index[0]))\n",
    "\n",
    "pipe_lasso_optimal_rmse.fit(X_train,y_train)\n",
    "pipe_lasso_optimal_mae.fit(X_train,y_train)\n",
    "pipe_ridge_optimal_rmse.fit(X_train,y_train)\n",
    "pipe_ridge_optimal_mae.fit(X_train,y_train)\n",
    "\n",
    "print('Lasso_rmse', math.sqrt(mse(pipe_lasso_optimal_rmse.predict(X_train),y_train)))\n",
    "print('Lasso_mae', mae(pipe_lasso_optimal_mae.predict(X_train),y_train))\n",
    "\n",
    "print('Ridge_rmse', math.sqrt(mse(pipe_ridge_optimal_rmse.predict(X_train),y_train)))\n",
    "print('Ridge_mae', mae(pipe_ridge_optimal_mae.predict(X_train),y_train))"
   ]
  },
  {
   "cell_type": "code",
   "execution_count": 49,
   "metadata": {},
   "outputs": [
    {
     "data": {
      "text/html": [
       "<div>\n",
       "<style scoped>\n",
       "    .dataframe tbody tr th:only-of-type {\n",
       "        vertical-align: middle;\n",
       "    }\n",
       "\n",
       "    .dataframe tbody tr th {\n",
       "        vertical-align: top;\n",
       "    }\n",
       "\n",
       "    .dataframe thead th {\n",
       "        text-align: right;\n",
       "    }\n",
       "</style>\n",
       "<table border=\"1\" class=\"dataframe\">\n",
       "  <thead>\n",
       "    <tr style=\"text-align: right;\">\n",
       "      <th></th>\n",
       "      <th>index</th>\n",
       "      <th>0</th>\n",
       "      <th>1</th>\n",
       "      <th>2</th>\n",
       "      <th>3</th>\n",
       "      <th>4</th>\n",
       "      <th>mean</th>\n",
       "      <th>std</th>\n",
       "      <th>alpha_1</th>\n",
       "      <th>alpha_2</th>\n",
       "    </tr>\n",
       "  </thead>\n",
       "  <tbody>\n",
       "    <tr>\n",
       "      <th>0</th>\n",
       "      <td>89</td>\n",
       "      <td>21.756892</td>\n",
       "      <td>21.425149</td>\n",
       "      <td>22.362547</td>\n",
       "      <td>22.188507</td>\n",
       "      <td>20.633378</td>\n",
       "      <td>21.673295</td>\n",
       "      <td>0.687478</td>\n",
       "      <td>0.117877</td>\n",
       "      <td>1.0</td>\n",
       "    </tr>\n",
       "    <tr>\n",
       "      <th>1</th>\n",
       "      <td>74</td>\n",
       "      <td>21.758601</td>\n",
       "      <td>21.423070</td>\n",
       "      <td>22.364959</td>\n",
       "      <td>22.188010</td>\n",
       "      <td>20.633597</td>\n",
       "      <td>21.673648</td>\n",
       "      <td>0.688148</td>\n",
       "      <td>0.071969</td>\n",
       "      <td>1.0</td>\n",
       "    </tr>\n",
       "    <tr>\n",
       "      <th>2</th>\n",
       "      <td>59</td>\n",
       "      <td>21.761523</td>\n",
       "      <td>21.421611</td>\n",
       "      <td>22.367321</td>\n",
       "      <td>22.188932</td>\n",
       "      <td>20.634579</td>\n",
       "      <td>21.674793</td>\n",
       "      <td>0.688768</td>\n",
       "      <td>0.043940</td>\n",
       "      <td>1.0</td>\n",
       "    </tr>\n",
       "    <tr>\n",
       "      <th>3</th>\n",
       "      <td>44</td>\n",
       "      <td>21.763638</td>\n",
       "      <td>21.421063</td>\n",
       "      <td>22.369131</td>\n",
       "      <td>22.189952</td>\n",
       "      <td>20.635742</td>\n",
       "      <td>21.675905</td>\n",
       "      <td>0.689091</td>\n",
       "      <td>0.026827</td>\n",
       "      <td>1.0</td>\n",
       "    </tr>\n",
       "    <tr>\n",
       "      <th>4</th>\n",
       "      <td>29</td>\n",
       "      <td>21.765075</td>\n",
       "      <td>21.420868</td>\n",
       "      <td>22.370483</td>\n",
       "      <td>22.190777</td>\n",
       "      <td>20.636624</td>\n",
       "      <td>21.676765</td>\n",
       "      <td>0.689316</td>\n",
       "      <td>0.016379</td>\n",
       "      <td>1.0</td>\n",
       "    </tr>\n",
       "  </tbody>\n",
       "</table>\n",
       "</div>"
      ],
      "text/plain": [
       "   index          0          1          2          3          4       mean  \\\n",
       "0     89  21.756892  21.425149  22.362547  22.188507  20.633378  21.673295   \n",
       "1     74  21.758601  21.423070  22.364959  22.188010  20.633597  21.673648   \n",
       "2     59  21.761523  21.421611  22.367321  22.188932  20.634579  21.674793   \n",
       "3     44  21.763638  21.421063  22.369131  22.189952  20.635742  21.675905   \n",
       "4     29  21.765075  21.420868  22.370483  22.190777  20.636624  21.676765   \n",
       "\n",
       "        std   alpha_1  alpha_2  \n",
       "0  0.687478  0.117877      1.0  \n",
       "1  0.688148  0.071969      1.0  \n",
       "2  0.688768  0.043940      1.0  \n",
       "3  0.689091  0.026827      1.0  \n",
       "4  0.689316  0.016379      1.0  "
      ]
     },
     "execution_count": 49,
     "metadata": {},
     "output_type": "execute_result"
    }
   ],
   "source": [
    "#convert ElasticNet scores into a DataFrame, find mean and std.\n",
    "df = pd.DataFrame(cv_ela_rmse)\n",
    "mean = df.mean(axis=1) \n",
    "std = df.std(axis=1)\n",
    "\n",
    "df['mean'] = mean\n",
    "df['std'] = std\n",
    "\n",
    "he = [list(t) for t in zip(*ela_net_combs)]\n",
    "\n",
    "alpha_1 = pd.DataFrame(he[0])\n",
    "alpha_2 = pd.DataFrame(he[1])\n",
    "df['alpha_1'] = alpha_1\n",
    "df['alpha_2'] = alpha_2\n",
    "\n",
    "df = df.sort_values('mean')\n",
    "df = df.reset_index()"
   ]
  },
  {
   "cell_type": "code",
   "execution_count": 50,
   "metadata": {},
   "outputs": [
    {
     "name": "stdout",
     "output_type": "stream",
     "text": [
      "21.605250820030694\n",
      "14.119377460791958\n"
     ]
    }
   ],
   "source": [
    "#print rmse and mae for ElasticNet in train data\n",
    "pipe_elanet_optimal = make_pipeline(StandardScaler(), \n",
    "                                         ElasticNet(alpha=0.117877, l1_ratio=1.0))\n",
    "pipe_elanet_optimal.fit(X_train,y_train)\n",
    "                                    \n",
    "print(math.sqrt(mse(pipe_elanet_optimal.predict(X_train),y_train)))\n",
    "print(mae(pipe_elanet_optimal.predict(X_train),y_train))"
   ]
  },
  {
   "cell_type": "code",
   "execution_count": 225,
   "metadata": {},
   "outputs": [
    {
     "ename": "KeyError",
     "evalue": "'alpha_2'",
     "output_type": "error",
     "traceback": [
      "\u001b[0;31m---------------------------------------------------------------------------\u001b[0m",
      "\u001b[0;31mKeyError\u001b[0m                                  Traceback (most recent call last)",
      "\u001b[0;32m/anaconda3/lib/python3.6/site-packages/pandas/core/indexes/base.py\u001b[0m in \u001b[0;36mget_loc\u001b[0;34m(self, key, method, tolerance)\u001b[0m\n\u001b[1;32m   3062\u001b[0m             \u001b[0;32mtry\u001b[0m\u001b[0;34m:\u001b[0m\u001b[0;34m\u001b[0m\u001b[0m\n\u001b[0;32m-> 3063\u001b[0;31m                 \u001b[0;32mreturn\u001b[0m \u001b[0mself\u001b[0m\u001b[0;34m.\u001b[0m\u001b[0m_engine\u001b[0m\u001b[0;34m.\u001b[0m\u001b[0mget_loc\u001b[0m\u001b[0;34m(\u001b[0m\u001b[0mkey\u001b[0m\u001b[0;34m)\u001b[0m\u001b[0;34m\u001b[0m\u001b[0m\n\u001b[0m\u001b[1;32m   3064\u001b[0m             \u001b[0;32mexcept\u001b[0m \u001b[0mKeyError\u001b[0m\u001b[0;34m:\u001b[0m\u001b[0;34m\u001b[0m\u001b[0m\n",
      "\u001b[0;32mpandas/_libs/index.pyx\u001b[0m in \u001b[0;36mpandas._libs.index.IndexEngine.get_loc\u001b[0;34m()\u001b[0m\n",
      "\u001b[0;32mpandas/_libs/index.pyx\u001b[0m in \u001b[0;36mpandas._libs.index.IndexEngine.get_loc\u001b[0;34m()\u001b[0m\n",
      "\u001b[0;32mpandas/_libs/hashtable_class_helper.pxi\u001b[0m in \u001b[0;36mpandas._libs.hashtable.PyObjectHashTable.get_item\u001b[0;34m()\u001b[0m\n",
      "\u001b[0;32mpandas/_libs/hashtable_class_helper.pxi\u001b[0m in \u001b[0;36mpandas._libs.hashtable.PyObjectHashTable.get_item\u001b[0;34m()\u001b[0m\n",
      "\u001b[0;31mKeyError\u001b[0m: 'alpha_2'",
      "\nDuring handling of the above exception, another exception occurred:\n",
      "\u001b[0;31mKeyError\u001b[0m                                  Traceback (most recent call last)",
      "\u001b[0;32m<ipython-input-225-e8a702f6a651>\u001b[0m in \u001b[0;36m<module>\u001b[0;34m()\u001b[0m\n\u001b[0;32m----> 1\u001b[0;31m \u001b[0mdf_alpha1\u001b[0m \u001b[0;34m=\u001b[0m \u001b[0mdf\u001b[0m\u001b[0;34m.\u001b[0m\u001b[0mloc\u001b[0m\u001b[0;34m[\u001b[0m\u001b[0mround\u001b[0m\u001b[0;34m(\u001b[0m\u001b[0mdf\u001b[0m\u001b[0;34m[\u001b[0m\u001b[0;34m'alpha_2'\u001b[0m\u001b[0;34m]\u001b[0m\u001b[0;34m,\u001b[0m \u001b[0;36m6\u001b[0m\u001b[0;34m)\u001b[0m \u001b[0;34m==\u001b[0m \u001b[0;36m1.0\u001b[0m\u001b[0;34m]\u001b[0m\u001b[0;34m\u001b[0m\u001b[0m\n\u001b[0m\u001b[1;32m      2\u001b[0m \u001b[0mdf_alpha2\u001b[0m \u001b[0;34m=\u001b[0m \u001b[0mdf\u001b[0m\u001b[0;34m.\u001b[0m\u001b[0mloc\u001b[0m\u001b[0;34m[\u001b[0m\u001b[0mround\u001b[0m\u001b[0;34m(\u001b[0m\u001b[0mdf\u001b[0m\u001b[0;34m[\u001b[0m\u001b[0;34m'alpha_1'\u001b[0m\u001b[0;34m]\u001b[0m\u001b[0;34m,\u001b[0m \u001b[0;36m6\u001b[0m\u001b[0;34m)\u001b[0m \u001b[0;34m==\u001b[0m \u001b[0;36m0.117877\u001b[0m\u001b[0;34m]\u001b[0m\u001b[0;34m\u001b[0m\u001b[0m\n",
      "\u001b[0;32m/anaconda3/lib/python3.6/site-packages/pandas/core/frame.py\u001b[0m in \u001b[0;36m__getitem__\u001b[0;34m(self, key)\u001b[0m\n\u001b[1;32m   2683\u001b[0m             \u001b[0;32mreturn\u001b[0m \u001b[0mself\u001b[0m\u001b[0;34m.\u001b[0m\u001b[0m_getitem_multilevel\u001b[0m\u001b[0;34m(\u001b[0m\u001b[0mkey\u001b[0m\u001b[0;34m)\u001b[0m\u001b[0;34m\u001b[0m\u001b[0m\n\u001b[1;32m   2684\u001b[0m         \u001b[0;32melse\u001b[0m\u001b[0;34m:\u001b[0m\u001b[0;34m\u001b[0m\u001b[0m\n\u001b[0;32m-> 2685\u001b[0;31m             \u001b[0;32mreturn\u001b[0m \u001b[0mself\u001b[0m\u001b[0;34m.\u001b[0m\u001b[0m_getitem_column\u001b[0m\u001b[0;34m(\u001b[0m\u001b[0mkey\u001b[0m\u001b[0;34m)\u001b[0m\u001b[0;34m\u001b[0m\u001b[0m\n\u001b[0m\u001b[1;32m   2686\u001b[0m \u001b[0;34m\u001b[0m\u001b[0m\n\u001b[1;32m   2687\u001b[0m     \u001b[0;32mdef\u001b[0m \u001b[0m_getitem_column\u001b[0m\u001b[0;34m(\u001b[0m\u001b[0mself\u001b[0m\u001b[0;34m,\u001b[0m \u001b[0mkey\u001b[0m\u001b[0;34m)\u001b[0m\u001b[0;34m:\u001b[0m\u001b[0;34m\u001b[0m\u001b[0m\n",
      "\u001b[0;32m/anaconda3/lib/python3.6/site-packages/pandas/core/frame.py\u001b[0m in \u001b[0;36m_getitem_column\u001b[0;34m(self, key)\u001b[0m\n\u001b[1;32m   2690\u001b[0m         \u001b[0;31m# get column\u001b[0m\u001b[0;34m\u001b[0m\u001b[0;34m\u001b[0m\u001b[0m\n\u001b[1;32m   2691\u001b[0m         \u001b[0;32mif\u001b[0m \u001b[0mself\u001b[0m\u001b[0;34m.\u001b[0m\u001b[0mcolumns\u001b[0m\u001b[0;34m.\u001b[0m\u001b[0mis_unique\u001b[0m\u001b[0;34m:\u001b[0m\u001b[0;34m\u001b[0m\u001b[0m\n\u001b[0;32m-> 2692\u001b[0;31m             \u001b[0;32mreturn\u001b[0m \u001b[0mself\u001b[0m\u001b[0;34m.\u001b[0m\u001b[0m_get_item_cache\u001b[0m\u001b[0;34m(\u001b[0m\u001b[0mkey\u001b[0m\u001b[0;34m)\u001b[0m\u001b[0;34m\u001b[0m\u001b[0m\n\u001b[0m\u001b[1;32m   2693\u001b[0m \u001b[0;34m\u001b[0m\u001b[0m\n\u001b[1;32m   2694\u001b[0m         \u001b[0;31m# duplicate columns & possible reduce dimensionality\u001b[0m\u001b[0;34m\u001b[0m\u001b[0;34m\u001b[0m\u001b[0m\n",
      "\u001b[0;32m/anaconda3/lib/python3.6/site-packages/pandas/core/generic.py\u001b[0m in \u001b[0;36m_get_item_cache\u001b[0;34m(self, item)\u001b[0m\n\u001b[1;32m   2484\u001b[0m         \u001b[0mres\u001b[0m \u001b[0;34m=\u001b[0m \u001b[0mcache\u001b[0m\u001b[0;34m.\u001b[0m\u001b[0mget\u001b[0m\u001b[0;34m(\u001b[0m\u001b[0mitem\u001b[0m\u001b[0;34m)\u001b[0m\u001b[0;34m\u001b[0m\u001b[0m\n\u001b[1;32m   2485\u001b[0m         \u001b[0;32mif\u001b[0m \u001b[0mres\u001b[0m \u001b[0;32mis\u001b[0m \u001b[0;32mNone\u001b[0m\u001b[0;34m:\u001b[0m\u001b[0;34m\u001b[0m\u001b[0m\n\u001b[0;32m-> 2486\u001b[0;31m             \u001b[0mvalues\u001b[0m \u001b[0;34m=\u001b[0m \u001b[0mself\u001b[0m\u001b[0;34m.\u001b[0m\u001b[0m_data\u001b[0m\u001b[0;34m.\u001b[0m\u001b[0mget\u001b[0m\u001b[0;34m(\u001b[0m\u001b[0mitem\u001b[0m\u001b[0;34m)\u001b[0m\u001b[0;34m\u001b[0m\u001b[0m\n\u001b[0m\u001b[1;32m   2487\u001b[0m             \u001b[0mres\u001b[0m \u001b[0;34m=\u001b[0m \u001b[0mself\u001b[0m\u001b[0;34m.\u001b[0m\u001b[0m_box_item_values\u001b[0m\u001b[0;34m(\u001b[0m\u001b[0mitem\u001b[0m\u001b[0;34m,\u001b[0m \u001b[0mvalues\u001b[0m\u001b[0;34m)\u001b[0m\u001b[0;34m\u001b[0m\u001b[0m\n\u001b[1;32m   2488\u001b[0m             \u001b[0mcache\u001b[0m\u001b[0;34m[\u001b[0m\u001b[0mitem\u001b[0m\u001b[0;34m]\u001b[0m \u001b[0;34m=\u001b[0m \u001b[0mres\u001b[0m\u001b[0;34m\u001b[0m\u001b[0m\n",
      "\u001b[0;32m/anaconda3/lib/python3.6/site-packages/pandas/core/internals.py\u001b[0m in \u001b[0;36mget\u001b[0;34m(self, item, fastpath)\u001b[0m\n\u001b[1;32m   4113\u001b[0m \u001b[0;34m\u001b[0m\u001b[0m\n\u001b[1;32m   4114\u001b[0m             \u001b[0;32mif\u001b[0m \u001b[0;32mnot\u001b[0m \u001b[0misna\u001b[0m\u001b[0;34m(\u001b[0m\u001b[0mitem\u001b[0m\u001b[0;34m)\u001b[0m\u001b[0;34m:\u001b[0m\u001b[0;34m\u001b[0m\u001b[0m\n\u001b[0;32m-> 4115\u001b[0;31m                 \u001b[0mloc\u001b[0m \u001b[0;34m=\u001b[0m \u001b[0mself\u001b[0m\u001b[0;34m.\u001b[0m\u001b[0mitems\u001b[0m\u001b[0;34m.\u001b[0m\u001b[0mget_loc\u001b[0m\u001b[0;34m(\u001b[0m\u001b[0mitem\u001b[0m\u001b[0;34m)\u001b[0m\u001b[0;34m\u001b[0m\u001b[0m\n\u001b[0m\u001b[1;32m   4116\u001b[0m             \u001b[0;32melse\u001b[0m\u001b[0;34m:\u001b[0m\u001b[0;34m\u001b[0m\u001b[0m\n\u001b[1;32m   4117\u001b[0m                 \u001b[0mindexer\u001b[0m \u001b[0;34m=\u001b[0m \u001b[0mnp\u001b[0m\u001b[0;34m.\u001b[0m\u001b[0marange\u001b[0m\u001b[0;34m(\u001b[0m\u001b[0mlen\u001b[0m\u001b[0;34m(\u001b[0m\u001b[0mself\u001b[0m\u001b[0;34m.\u001b[0m\u001b[0mitems\u001b[0m\u001b[0;34m)\u001b[0m\u001b[0;34m)\u001b[0m\u001b[0;34m[\u001b[0m\u001b[0misna\u001b[0m\u001b[0;34m(\u001b[0m\u001b[0mself\u001b[0m\u001b[0;34m.\u001b[0m\u001b[0mitems\u001b[0m\u001b[0;34m)\u001b[0m\u001b[0;34m]\u001b[0m\u001b[0;34m\u001b[0m\u001b[0m\n",
      "\u001b[0;32m/anaconda3/lib/python3.6/site-packages/pandas/core/indexes/base.py\u001b[0m in \u001b[0;36mget_loc\u001b[0;34m(self, key, method, tolerance)\u001b[0m\n\u001b[1;32m   3063\u001b[0m                 \u001b[0;32mreturn\u001b[0m \u001b[0mself\u001b[0m\u001b[0;34m.\u001b[0m\u001b[0m_engine\u001b[0m\u001b[0;34m.\u001b[0m\u001b[0mget_loc\u001b[0m\u001b[0;34m(\u001b[0m\u001b[0mkey\u001b[0m\u001b[0;34m)\u001b[0m\u001b[0;34m\u001b[0m\u001b[0m\n\u001b[1;32m   3064\u001b[0m             \u001b[0;32mexcept\u001b[0m \u001b[0mKeyError\u001b[0m\u001b[0;34m:\u001b[0m\u001b[0;34m\u001b[0m\u001b[0m\n\u001b[0;32m-> 3065\u001b[0;31m                 \u001b[0;32mreturn\u001b[0m \u001b[0mself\u001b[0m\u001b[0;34m.\u001b[0m\u001b[0m_engine\u001b[0m\u001b[0;34m.\u001b[0m\u001b[0mget_loc\u001b[0m\u001b[0;34m(\u001b[0m\u001b[0mself\u001b[0m\u001b[0;34m.\u001b[0m\u001b[0m_maybe_cast_indexer\u001b[0m\u001b[0;34m(\u001b[0m\u001b[0mkey\u001b[0m\u001b[0;34m)\u001b[0m\u001b[0;34m)\u001b[0m\u001b[0;34m\u001b[0m\u001b[0m\n\u001b[0m\u001b[1;32m   3066\u001b[0m \u001b[0;34m\u001b[0m\u001b[0m\n\u001b[1;32m   3067\u001b[0m         \u001b[0mindexer\u001b[0m \u001b[0;34m=\u001b[0m \u001b[0mself\u001b[0m\u001b[0;34m.\u001b[0m\u001b[0mget_indexer\u001b[0m\u001b[0;34m(\u001b[0m\u001b[0;34m[\u001b[0m\u001b[0mkey\u001b[0m\u001b[0;34m]\u001b[0m\u001b[0;34m,\u001b[0m \u001b[0mmethod\u001b[0m\u001b[0;34m=\u001b[0m\u001b[0mmethod\u001b[0m\u001b[0;34m,\u001b[0m \u001b[0mtolerance\u001b[0m\u001b[0;34m=\u001b[0m\u001b[0mtolerance\u001b[0m\u001b[0;34m)\u001b[0m\u001b[0;34m\u001b[0m\u001b[0m\n",
      "\u001b[0;32mpandas/_libs/index.pyx\u001b[0m in \u001b[0;36mpandas._libs.index.IndexEngine.get_loc\u001b[0;34m()\u001b[0m\n",
      "\u001b[0;32mpandas/_libs/index.pyx\u001b[0m in \u001b[0;36mpandas._libs.index.IndexEngine.get_loc\u001b[0;34m()\u001b[0m\n",
      "\u001b[0;32mpandas/_libs/hashtable_class_helper.pxi\u001b[0m in \u001b[0;36mpandas._libs.hashtable.PyObjectHashTable.get_item\u001b[0;34m()\u001b[0m\n",
      "\u001b[0;32mpandas/_libs/hashtable_class_helper.pxi\u001b[0m in \u001b[0;36mpandas._libs.hashtable.PyObjectHashTable.get_item\u001b[0;34m()\u001b[0m\n",
      "\u001b[0;31mKeyError\u001b[0m: 'alpha_2'"
     ]
    }
   ],
   "source": [
    "#create two DataFrames for ElasticNet: one with optimal lambda, one with optimal L1-ratio\n",
    "df_alpha1 = df.loc[round(df['alpha_2'], 6) == 1.0]\n",
    "df_alpha2 = df.loc[round(df['alpha_1'], 6) == 0.117877]"
   ]
  },
  {
   "cell_type": "markdown",
   "metadata": {},
   "source": [
    "### Errorbar plots for ElasticNet"
   ]
  },
  {
   "cell_type": "code",
   "execution_count": 272,
   "metadata": {
    "scrolled": true
   },
   "outputs": [
    {
     "data": {
      "image/png": "[encoded data removed]",
      "text/plain": [
       "<Figure size 432x288 with 1 Axes>"
      ]
     },
     "metadata": {},
     "output_type": "display_data"
    }
   ],
   "source": [
    "(_, caps, _) = plt.errorbar(df_alpha1['alpha_1'].values, df_alpha1['mean'].values, \n",
    "             yerr=df_alpha1['std'].values, fmt='o', linestyle='None', markersize=5, capsize=5)\n",
    "\n",
    "for cap in caps:\n",
    "    cap.set_markeredgewidth(1)\n",
    "    \n",
    "sns.set_style('white')\n",
    "sns.despine(left=False, top=True, right=True, bottom=False)\n",
    "sns.set_context('paper')\n",
    "plt.xlabel('Lambdas', fontsize=13)\n",
    "plt.ylabel('RMSE', fontsize=13)\n",
    "plt.title('ElasticNet evaluated at optimal L1-ratio', fontsize=15)\n",
    "plt.savefig('ElasticNet_lambdas')"
   ]
  },
  {
   "cell_type": "code",
   "execution_count": 273,
   "metadata": {},
   "outputs": [
    {
     "data": {
      "image/png": "[encoded data removed]",
      "text/plain": [
       "<Figure size 432x288 with 1 Axes>"
      ]
     },
     "metadata": {},
     "output_type": "display_data"
    }
   ],
   "source": [
    "(_, caps, _) = plt.errorbar(df_alpha2['alpha_2'].values, df_alpha2['mean'].values, \n",
    "             yerr=df_alpha2['std'].values, fmt='o', linestyle='None', markersize=5, capsize=5)\n",
    "\n",
    "for cap in caps:\n",
    "    cap.set_markeredgewidth(1)\n",
    "\n",
    "\n",
    "sns.set_style('white')\n",
    "sns.despine(left=False, top=True, right=True, bottom=False)\n",
    "sns.set_context('paper')\n",
    "plt.xlabel('L1-ratio', fontsize=13)\n",
    "plt.ylabel('RMSE', fontsize=13)\n",
    "plt.title('ElasticNet evaluated at optimal lambda', fontsize=15)\n",
    "plt.savefig('ElasticNet_alphas')"
   ]
  },
  {
   "cell_type": "markdown",
   "metadata": {},
   "source": [
    "## Random Forest"
   ]
  },
  {
   "cell_type": "code",
   "execution_count": 161,
   "metadata": {},
   "outputs": [],
   "source": [
    "from sklearn.ensemble import RandomForestRegressor\n",
    "from sklearn.model_selection import KFold\n",
    "\n",
    "kf = KFold(n_splits=5, random_state=1)\n",
    "\n",
    "cv_forest_mean_rmse = []\n",
    "cv_forest_mean_mae = []\n",
    "cv_forest_std_rmse = []\n",
    "cv_forest_std_mae = []\n",
    "forest_combs = []\n",
    "\n",
    "for feature in np.arange(10,30,1): # loop over different number of features\n",
    "    for estimator in range(10, 100, 10): #loop over different number of trees\n",
    "        \n",
    "        cv_forest_rmse_ = []\n",
    "        cv_forest_mae_ = []\n",
    "            \n",
    "        for train_index, val_index in kf.split(X_train, y_train):\n",
    "            \n",
    "            X_train_, y_train_ = X_train[train_index], y_train[train_index]\n",
    "            X_val, y_val = X_train[val_index], y_train[val_index]    \n",
    "\n",
    "            reg_RF = RandomForestRegressor(max_features = feature, \n",
    "                                           n_estimators = estimator, \n",
    "                                           random_state=1).fit(X_train_,y_train_)\n",
    "            \n",
    "            cv_forest_rmse_.append(np.sqrt(mse(reg_RF.predict(X_val),y_val)))\n",
    "            cv_forest_mae_.append(mae(reg_RF.predict(X_val),y_val))\n",
    "\n",
    "    cv_forest_mean_mae.append(np.mean(cv_forest_mae_))\n",
    "    cv_forest_mean_rmse.append(np.mean(cv_forest_rmse_))\n",
    "    cv_forest_std_mae.append(np.std(cv_forest_mae_))\n",
    "    cv_forest_std_rmse.append(np.std(cv_forest_rmse_))\n",
    "            \n",
    "    forest_combs.append((estimator, feature))"
   ]
  },
  {
   "cell_type": "code",
   "execution_count": 176,
   "metadata": {},
   "outputs": [
    {
     "data": {
      "text/html": [
       "<div>\n",
       "<style scoped>\n",
       "    .dataframe tbody tr th:only-of-type {\n",
       "        vertical-align: middle;\n",
       "    }\n",
       "\n",
       "    .dataframe tbody tr th {\n",
       "        vertical-align: top;\n",
       "    }\n",
       "\n",
       "    .dataframe thead th {\n",
       "        text-align: right;\n",
       "    }\n",
       "</style>\n",
       "<table border=\"1\" class=\"dataframe\">\n",
       "  <thead>\n",
       "    <tr style=\"text-align: right;\">\n",
       "      <th></th>\n",
       "      <th>index</th>\n",
       "      <th>0</th>\n",
       "      <th>mean</th>\n",
       "      <th>std</th>\n",
       "      <th>no_trees</th>\n",
       "      <th>no_features</th>\n",
       "    </tr>\n",
       "  </thead>\n",
       "  <tbody>\n",
       "    <tr>\n",
       "      <th>0</th>\n",
       "      <td>3</td>\n",
       "      <td>18.015934</td>\n",
       "      <td>18.015934</td>\n",
       "      <td>0.628105</td>\n",
       "      <td>90</td>\n",
       "      <td>13</td>\n",
       "    </tr>\n",
       "    <tr>\n",
       "      <th>1</th>\n",
       "      <td>4</td>\n",
       "      <td>18.052032</td>\n",
       "      <td>18.052032</td>\n",
       "      <td>0.656331</td>\n",
       "      <td>90</td>\n",
       "      <td>14</td>\n",
       "    </tr>\n",
       "    <tr>\n",
       "      <th>2</th>\n",
       "      <td>2</td>\n",
       "      <td>18.057390</td>\n",
       "      <td>18.057390</td>\n",
       "      <td>0.676332</td>\n",
       "      <td>90</td>\n",
       "      <td>12</td>\n",
       "    </tr>\n",
       "    <tr>\n",
       "      <th>3</th>\n",
       "      <td>5</td>\n",
       "      <td>18.060224</td>\n",
       "      <td>18.060224</td>\n",
       "      <td>0.615558</td>\n",
       "      <td>90</td>\n",
       "      <td>15</td>\n",
       "    </tr>\n",
       "    <tr>\n",
       "      <th>4</th>\n",
       "      <td>1</td>\n",
       "      <td>18.065572</td>\n",
       "      <td>18.065572</td>\n",
       "      <td>0.603604</td>\n",
       "      <td>90</td>\n",
       "      <td>11</td>\n",
       "    </tr>\n",
       "  </tbody>\n",
       "</table>\n",
       "</div>"
      ],
      "text/plain": [
       "   index          0       mean       std  no_trees  no_features\n",
       "0      3  18.015934  18.015934  0.628105        90           13\n",
       "1      4  18.052032  18.052032  0.656331        90           14\n",
       "2      2  18.057390  18.057390  0.676332        90           12\n",
       "3      5  18.060224  18.060224  0.615558        90           15\n",
       "4      1  18.065572  18.065572  0.603604        90           11"
      ]
     },
     "execution_count": 176,
     "metadata": {},
     "output_type": "execute_result"
    }
   ],
   "source": [
    "forest = pd.DataFrame(cv_forest_mean_rmse)\n",
    "forest['mean'] = pd.DataFrame(cv_forest_mean_rmse)\n",
    "forest['std'] = pd.DataFrame(cv_forest_std_rmse)\n",
    "\n",
    "ze = [list(t) for t in zip(*forest_combs)]\n",
    "\n",
    "forest['no_trees'] = pd.DataFrame(ze[0])\n",
    "forest['no_features'] = pd.DataFrame(ze[1])\n",
    "\n",
    "forest = forest.sort_values('mean')\n",
    "forest = forest.reset_index()"
   ]
  },
  {
   "cell_type": "code",
   "execution_count": 194,
   "metadata": {},
   "outputs": [
    {
     "name": "stdout",
     "output_type": "stream",
     "text": [
      "6.706880923738857\n",
      "3.650724649045019\n",
      "16.420370694001384\n",
      "9.18595351823314\n"
     ]
    }
   ],
   "source": [
    "#print mae and rmse for Random Forest in train and test data\n",
    "forest_optimal = RandomForestRegressor(n_estimators=forest['no_trees'][0],\n",
    "                                                        random_state=1,\n",
    "                                                        n_jobs=-1, \n",
    "                                                         max_features=forest['no_features'][0])\n",
    "\n",
    "forest_optimal.fit(X_train,y_train)\n",
    "                                    \n",
    "print(math.sqrt(mse(forest_optimal.predict(X_train),y_train)))\n",
    "print(mae(forest_optimal.predict(X_train),y_train))\n",
    "\n",
    "print(math.sqrt(mse(forest_optimal.predict(X_test),y_test)))\n",
    "print(mae(forest_optimal.predict(X_test),y_test))"
   ]
  },
  {
   "cell_type": "markdown",
   "metadata": {},
   "source": [
    "### Random Forest residual plot"
   ]
  },
  {
   "cell_type": "code",
   "execution_count": 193,
   "metadata": {},
   "outputs": [
    {
     "data": {
      "image/png": "[encoded data removed]",
      "text/plain": [
       "<Figure size 432x288 with 1 Axes>"
      ]
     },
     "metadata": {},
     "output_type": "display_data"
    }
   ],
   "source": [
    "y_test_pred = forest_optimal.predict(X_test)\n",
    "y_train_pred = forest_optimal.predict(X_train)\n",
    "\n",
    "#residual plot\n",
    "plt.scatter(x=y_train_pred, y = y_train_pred - y_train, c='#0d6dae', marker='o', edgecolor='white',label='Training data')\n",
    "plt.scatter(x=y_test_pred, y = y_test_pred - y_test, c='#95d6bb', marker='o', edgecolor='white',\n",
    "           label='Test data')\n",
    "sns.set_style('white')\n",
    "sns.despine(left=False, top=True, right=True, bottom=False)\n",
    "sns.set_context('paper')\n",
    "plt.xlabel('Predicted values', fontsize=13)\n",
    "plt.ylabel('Residuals', fontsize=13)\n",
    "plt.hlines(y=0, xmin=-120, xmax=400, color='black', lw=1, linestyles='dotted')\n",
    "plt.title('Random Forest residual plot', fontsize=15)\n",
    "plt.legend(loc='upper left')\n",
    "plt.savefig(\"res_plot_RF.png\")"
   ]
  },
  {
   "cell_type": "markdown",
   "metadata": {},
   "source": [
    "## Regression coefficients"
   ]
  },
  {
   "cell_type": "code",
   "execution_count": 274,
   "metadata": {},
   "outputs": [
    {
     "data": {
      "text/plain": [
       "{'seats': 0.05264356092136373,\n",
       " 'free_seats': -0.03760148887626872,\n",
       " 'duration': 0.006348551915584197,\n",
       " 'kids': -2.29039530568935,\n",
       " 'music': 1.3287264021069156,\n",
       " 'animals': -2.115182393943047,\n",
       " 'comfort': -3.535409970511051,\n",
       " 'smoking': 11.960294646857747,\n",
       " 'weekday': 1.3258297743069272,\n",
       " 'SJ_dep_int': -0.16428152980443017,\n",
       " 'SJ_arr_int': -1.1912700796925728,\n",
       " 'accept_cash_int': -45.6498161638146,\n",
       " 'accept_online_payment_int': 45.649816163814585,\n",
       " 'quick_booking_int': -0.8883389911724875,\n",
       " 'flex_booking_int': -3.9348765008194646,\n",
       " 'det_15_minutes': -0.6560901904171881,\n",
       " 'det_5_minutes': -0.7546522605862958,\n",
       " 'det_flexible': 1.3109112193250767,\n",
       " 'det_none': 0.09983123167841863,\n",
       " 'distance_KM': 0.1245656403829794,\n",
       " 'taken_seats': 0.09024504979752758,\n",
       " 'toll_road_bool': 20.56903360576154,\n",
       " 'Night': -1.4208585679543686,\n",
       " 'Morning': -3.400490855716649,\n",
       " 'Forenoon': 1.9412044526637797,\n",
       " 'Noon': -0.4987406503303697,\n",
       " 'Afternoon': -0.7487153969465556,\n",
       " 'Evening': 2.0116380737901207,\n",
       " 'Late_evening': 2.11596294449408}"
      ]
     },
     "execution_count": 274,
     "metadata": {},
     "output_type": "execute_result"
    }
   ],
   "source": [
    "regr = LinearRegression()\n",
    "regr.fit(X_train, y_train).predict(X_test)\n",
    "dict(zip(sample.drop(['price_DKK'], axis=1).keys(), regr.coef_))"
   ]
  },
  {
   "cell_type": "code",
   "execution_count": 275,
   "metadata": {},
   "outputs": [
    {
     "data": {
      "text/plain": [
       "{'seats': 0.0,\n",
       " 'free_seats': -0.0,\n",
       " 'duration': 0.006479238873235365,\n",
       " 'kids': -1.573527875584098,\n",
       " 'music': 0.42129414562554907,\n",
       " 'animals': -0.4230728555113602,\n",
       " 'comfort': -2.721705475825432,\n",
       " 'smoking': 3.733779603702647,\n",
       " 'weekday': 1.3832453980449815,\n",
       " 'SJ_dep_int': 0.0,\n",
       " 'SJ_arr_int': -0.3208369834308712,\n",
       " 'accept_cash_int': -40.75132906577593,\n",
       " 'accept_online_payment_int': 0.0,\n",
       " 'quick_booking_int': -0.17008337740306084,\n",
       " 'flex_booking_int': -3.5350600491371384,\n",
       " 'det_15_minutes': -0.0,\n",
       " 'det_5_minutes': -0.6308349877665398,\n",
       " 'det_flexible': 0.49109385568851377,\n",
       " 'det_none': 0.0,\n",
       " 'distance_KM': 0.12631589184652664,\n",
       " 'taken_seats': 0.06499044197509529,\n",
       " 'toll_road_bool': 18.540670509102377,\n",
       " 'Night': -0.0,\n",
       " 'Morning': -2.4859109801270622,\n",
       " 'Forenoon': 1.3494712243567297,\n",
       " 'Noon': -0.0,\n",
       " 'Afternoon': -0.0,\n",
       " 'Evening': 0.9771203082444885,\n",
       " 'Late_evening': 0.0}"
      ]
     },
     "execution_count": 275,
     "metadata": {},
     "output_type": "execute_result"
    }
   ],
   "source": [
    "alpha = 0.1178\n",
    "lasso = Lasso(alpha=alpha)\n",
    "lasso.fit(X_train, y_train).predict(X_test)\n",
    "dict(zip(sample.drop(['price_DKK'], axis=1).keys(), lasso.coef_))"
   ]
  },
  {
   "cell_type": "code",
   "execution_count": 276,
   "metadata": {},
   "outputs": [
    {
     "data": {
      "text/plain": [
       "{'seats': 0.07102960601810428,\n",
       " 'free_seats': -0.03309955590902921,\n",
       " 'duration': 0.006375165903084701,\n",
       " 'kids': -2.2896512244032934,\n",
       " 'music': 1.3212974723433986,\n",
       " 'animals': -2.009748037365319,\n",
       " 'comfort': -3.4397641545772477,\n",
       " 'smoking': 11.136755114912177,\n",
       " 'weekday': 1.329886242773206,\n",
       " 'SJ_dep_int': -0.07511859960908944,\n",
       " 'SJ_arr_int': -1.1527799573708764,\n",
       " 'accept_cash_int': -38.18224179043291,\n",
       " 'accept_online_payment_int': 38.18224179043505,\n",
       " 'quick_booking_int': -0.7919932679816449,\n",
       " 'flex_booking_int': -3.9195258041086056,\n",
       " 'det_15_minutes': -0.6513918093354829,\n",
       " 'det_5_minutes': -0.7512935148485016,\n",
       " 'det_flexible': 1.2922206197894983,\n",
       " 'det_none': 0.11046470436903308,\n",
       " 'distance_KM': 0.12449566576092394,\n",
       " 'taken_seats': 0.1041291621401237,\n",
       " 'toll_road_bool': 20.251129134988332,\n",
       " 'Night': -1.3958594698534688,\n",
       " 'Morning': -3.358372299816634,\n",
       " 'Forenoon': 1.9490284014448978,\n",
       " 'Noon': -0.4893819286342091,\n",
       " 'Afternoon': -0.7270313927788985,\n",
       " 'Evening': 1.9716701996575219,\n",
       " 'Late_evening': 2.0499464899778053}"
      ]
     },
     "execution_count": 276,
     "metadata": {},
     "output_type": "execute_result"
    }
   ],
   "source": [
    "alpha = 10.0\n",
    "ridge = Ridge(alpha=alpha)\n",
    "ridge.fit(X_train, y_train).predict(X_test)\n",
    "dict(zip(sample.drop(['price_DKK'], axis=1).keys(), ridge.coef_))"
   ]
  },
  {
   "cell_type": "code",
   "execution_count": 277,
   "metadata": {},
   "outputs": [
    {
     "data": {
      "text/plain": [
       "{'seats': 0.0,\n",
       " 'free_seats': -0.0,\n",
       " 'duration': 0.006479238873235365,\n",
       " 'kids': -1.573527875584098,\n",
       " 'music': 0.42129414562554907,\n",
       " 'animals': -0.4230728555113602,\n",
       " 'comfort': -2.721705475825432,\n",
       " 'smoking': 3.733779603702647,\n",
       " 'weekday': 1.3832453980449815,\n",
       " 'SJ_dep_int': 0.0,\n",
       " 'SJ_arr_int': -0.3208369834308712,\n",
       " 'accept_cash_int': -40.75132906577593,\n",
       " 'accept_online_payment_int': 0.0,\n",
       " 'quick_booking_int': -0.17008337740306084,\n",
       " 'flex_booking_int': -3.5350600491371384,\n",
       " 'det_15_minutes': -0.0,\n",
       " 'det_5_minutes': -0.6308349877665398,\n",
       " 'det_flexible': 0.49109385568851377,\n",
       " 'det_none': 0.0,\n",
       " 'distance_KM': 0.12631589184652664,\n",
       " 'taken_seats': 0.06499044197509529,\n",
       " 'toll_road_bool': 18.540670509102377,\n",
       " 'Night': -0.0,\n",
       " 'Morning': -2.4859109801270622,\n",
       " 'Forenoon': 1.3494712243567297,\n",
       " 'Noon': -0.0,\n",
       " 'Afternoon': -0.0,\n",
       " 'Evening': 0.9771203082444885,\n",
       " 'Late_evening': 0.0}"
      ]
     },
     "execution_count": 277,
     "metadata": {},
     "output_type": "execute_result"
    }
   ],
   "source": [
    "alpha = 0.1178\n",
    "elasticnet = ElasticNet(alpha=alpha, l1_ratio=1.0)\n",
    "elasticnet.fit(X_train, y_train).predict(X_test)\n",
    "dict(zip(sample.drop(['price_DKK'], axis=1).keys(), elasticnet.coef_))"
   ]
  },
  {
   "cell_type": "code",
   "execution_count": 278,
   "metadata": {},
   "outputs": [
    {
     "data": {
      "text/plain": [
       "{'seats': 0.011591490556411364,\n",
       " 'free_seats': 0.020151795231000382,\n",
       " 'duration': 0.39653269295376675,\n",
       " 'kids': 0.005387886824731187,\n",
       " 'music': 0.004136646123121738,\n",
       " 'animals': 0.003461753730848901,\n",
       " 'comfort': 0.004209005003262588,\n",
       " 'smoking': 0.0038007175459766483,\n",
       " 'weekday': 0.014666213817433686,\n",
       " 'SJ_dep_int': 0.007427770719546291,\n",
       " 'SJ_arr_int': 0.006548777289792994,\n",
       " 'accept_cash_int': 0.004449924316325367,\n",
       " 'accept_online_payment_int': 0.0039486235095724,\n",
       " 'quick_booking_int': 0.004332248652573037,\n",
       " 'flex_booking_int': 0.003901760890854323,\n",
       " 'det_15_minutes': 0.002760101753914362,\n",
       " 'det_5_minutes': 0.0034834651850928445,\n",
       " 'det_flexible': 0.004086755460578083,\n",
       " 'det_none': 0.003267448966213896,\n",
       " 'distance_KM': 0.38441351391593753,\n",
       " 'taken_seats': 0.007318068185868831,\n",
       " 'toll_road_bool': 0.082049262226182,\n",
       " 'Night': 0.002141767479391827,\n",
       " 'Morning': 0.0029653992647363995,\n",
       " 'Forenoon': 0.003181222321199019,\n",
       " 'Noon': 0.002632489751056364,\n",
       " 'Afternoon': 0.0027087209112830533,\n",
       " 'Evening': 0.0021918633603620766,\n",
       " 'Late_evening': 0.0022526140529661137}"
      ]
     },
     "execution_count": 278,
     "metadata": {},
     "output_type": "execute_result"
    }
   ],
   "source": [
    "randomforest = RandomForestRegressor(n_estimators = 90, random_state = 1, n_jobs = -1, max_features = 13)\n",
    "randomforest.fit(X_train, y_train).predict(X_test)\n",
    "dict(zip(sample.drop(['price_DKK'], axis=1).keys(), randomforest.feature_importances_))"
   ]
  },
  {
   "cell_type": "markdown",
   "metadata": {},
   "source": [
    "## Feature importances"
   ]
  },
  {
   "cell_type": "code",
   "execution_count": 279,
   "metadata": {},
   "outputs": [
    {
     "data": {
      "image/png": "[encoded data removed]",
      "text/plain": [
       "<Figure size 648x360 with 1 Axes>"
      ]
     },
     "metadata": {},
     "output_type": "display_data"
    }
   ],
   "source": [
    "RF = {'No. seats': 0.011591490556411364,\n",
    " 'No. free seats': 0.020151795231000382,\n",
    " 'Duration': 0.39653269295376675,\n",
    " 'Kids': 0.005387886824731187,\n",
    " 'Music': 0.004136646123121738,\n",
    " 'Animals': 0.003461753730848901,\n",
    " 'Comfort': 0.004209005003262588,\n",
    " 'Smoking': 0.0038007175459766483,\n",
    " 'Weekday': 0.014666213817433686,\n",
    " 'SJ_dep': 0.007427770719546291,\n",
    " 'SJ_arr': 0.006548777289792994,\n",
    " 'Accept cash': 0.004449924316325367,\n",
    " 'Accept online payment': 0.0039486235095724,\n",
    " 'Quick booking': 0.004332248652573037,\n",
    " 'Flex booking': 0.003901760890854323,\n",
    " 'Detour 15 min': 0.002760101753914362,\n",
    " 'Detour 5 min': 0.0034834651850928445,\n",
    " 'Detour flexible': 0.004086755460578083,\n",
    " 'Detour none': 0.003267448966213896,\n",
    " 'Distance km': 0.38441351391593753,\n",
    " 'Taken seats': 0.007318068185868831,\n",
    " 'Toll road': 0.082049262226182,\n",
    " 'Night': 0.002141767479391827,\n",
    " 'Morning': 0.0029653992647363995,\n",
    " 'Forenoon': 0.003181222321199019,\n",
    " 'Noon': 0.002632489751056364,\n",
    " 'Afternoon': 0.0027087209112830533,\n",
    " 'Evening': 0.0021918633603620766,\n",
    " 'Late evening': 0.0022526140529661137}\n",
    "\n",
    "s = pd.DataFrame(RF, index=[0]).T\n",
    "s = s.sort_values(0, ascending=False)\n",
    "\n",
    "ax = s.plot(kind='bar', title =\"Feature Importances\",figsize=(9,5),legend=False, fontsize=12)\n",
    "#ax.set_xlabel(\"Features\", fontsize=12)\n",
    "#ax.set_ylabel(\"Importance\", fontsize=12)\n",
    "plt.tight_layout()\n",
    "plt.savefig(\"feature_importances.png\")"
   ]
  }
 ],
 "metadata": {
  "kernelspec": {
   "display_name": "Python 3",
   "language": "python",
   "name": "python3"
  },
  "language_info": {
   "codemirror_mode": {
    "name": "ipython",
    "version": 3
   },
   "file_extension": ".py",
   "mimetype": "text/x-python",
   "name": "python",
   "nbconvert_exporter": "python",
   "pygments_lexer": "ipython3",
   "version": "3.6.5"
  }
 },
 "nbformat": 4,
 "nbformat_minor": 2
}
