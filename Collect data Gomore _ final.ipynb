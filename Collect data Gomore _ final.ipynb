{
 "cells": [
  {
   "cell_type": "code",
   "execution_count": 17,
   "metadata": {},
   "outputs": [
    {
     "name": "stdout",
     "output_type": "stream",
     "text": [
      "https://gomore.dk/rides/7366027\n",
      "https://gomore.dk/rides/7366045\n",
      "https://gomore.dk/rides/7366968\n",
      "https://gomore.dk/rides/7366969\n",
      "https://gomore.dk/rides/7366970\n",
      "https://gomore.dk/rides/7366971\n",
      "https://gomore.dk/rides/7366972\n",
      "https://gomore.dk/rides/7366973\n",
      "https://gomore.dk/rides/7366974\n",
      "https://gomore.dk/rides/7366975\n",
      "https://gomore.dk/rides/7367235\n",
      "https://gomore.dk/rides/7367631\n",
      "https://gomore.dk/rides/7367633\n",
      "https://gomore.dk/rides/7367928\n",
      "https://gomore.dk/rides/7368292\n",
      "https://gomore.dk/rides/7368313\n"
     ]
    }
   ],
   "source": [
    "import time\n",
    "import re\n",
    "import json\n",
    "import pandas as pd\n",
    "import requests\n",
    "from bs4 import BeautifulSoup\n",
    "\n",
    "jasons = []\n",
    "for link in range(7366000, 7369000, 1):\n",
    "    url = 'https://gomore.dk/rides/'+ str(link)\n",
    "    response = requests.get(url)\n",
    "    if response.ok:\n",
    "        try:\n",
    "            soup = BeautifulSoup(requests.get(url).text,'lxml')\n",
    "            jason_ = json.loads(soup.find_all('meta',{'content':re.compile('\\{+')})[0]['content'])\n",
    "            jason = jason_['rideData']\n",
    "            jasons.append(jason)\n",
    "        except:\n",
    "            print(url)\n",
    "    time.sleep(0.1)    \n"
   ]
  },
  {
   "cell_type": "code",
   "execution_count": 19,
   "metadata": {},
   "outputs": [
    {
     "data": {
      "text/plain": [
       "{'id': 7366102,\n",
       " 'depart_at': '2018-08-03T16:00:00+02:00',\n",
       " 'seats': 3,\n",
       " 'prefs': {'chat': '0',\n",
       "  'kids': '0',\n",
       "  'music': '1',\n",
       "  'animals': '0',\n",
       "  'baggage': 'small',\n",
       "  'comfort': '1',\n",
       "  'smoking': '0',\n",
       "  'motorway': '0'},\n",
       " 'notes': 'maletero lleno. equipaje de mano. totalmente flexible en hora',\n",
       " 'free_seats': 3,\n",
       " 'user_id': 452301,\n",
       " 'handle_fee_rate': 10.0,\n",
       " 'handle_fee_ceiling_factor': 10,\n",
       " 'handle_fee_maximum': 100.0,\n",
       " 'accept_cash': False,\n",
       " 'accept_online_payment': True,\n",
       " 'quick_booking': False,\n",
       " 'flex_booking': False,\n",
       " 'price': 800,\n",
       " 'car_id': 87003,\n",
       " 'currency_id': 5,\n",
       " 'distance': 134658,\n",
       " 'detour_preference': 'none',\n",
       " 'overview_polyline': 'sodbGfo|MkNoDgFuJeIoEqAhIy@~@a@LuL~DkJhCuQwAEhE}Ffr@yf@t|@gMny@sYbmAiFdMsVzQwi@z]qa@jb@gXt@ySzHy]x^{AvUtMjb@tHjXMbWkRzg@kUvYmk@`_@kNbWiXpc@mG|]kYhScPxYgOlnAyEf^yHfGsYvDoRfJaGjPi|@pnCy[jw@iDdQj@hUsU|nBmT`d@_@|F|B|Qy_@~GgDjMmDdStNvO~@jPaIcMIdPcEdGiIkKyHx]Era@{BdSoJlJsGuG{RzOaIjB{GcCgOiGqRqa@{L_MiCrCkHa@iJaAkCzHBpk@cZto@_KzDqI|FaGjOcWjUmXtUwJ@qS~Gcn@pm@sGg@wAeCgFdHcf@rLc{@tRoRmIu[c@_OaDkSsKiFeDsr@dCgXjEkR`Fce@mI}VoCgMZkQ}@g_@wKcU_^u]u_@gG{ZiDmDiY}Y}TcIeVyNm\\\\{E{r@kI_t@}AsNiCsKgLc]kIuMjFsKyCuTwOiMzAiWgGwOxDwWfYyk@d_@eJ~GyPoBqd@ai@wNmEuMr@}b@jFe[cJmZ_b@q]qRyQgH]LqPuD]mFE{SaA}LwC_ESwCie@kF}MWqWwCol@iByN_Yi`@oWqCcCgCh_@oAfM_]hSkYoFqQ{AkyCqn@m_A{OD}GlGeCsEf]oYnCih@{G_DvNyGbJiBf@hCsDgFwUwIoBcJFgLuKpG{@EiT|DrBs]l@o|A}d@qs@kEo^tCqe@SyKpFqT`[}TdJo]~EeDrMcBlg@tClP{DzLeVnh@aRb}@sKjKw^Qe`@w@gUjLgw@~\\\\cQkAy\\\\nEak@ld@gr@hMia@Sss@zf@mdAz|@iRrOeHv@uCtF{EyDwOvLkHfBuE_NoPsJuKrDmE`HAzOoD`EbFI|CwKiB`UiHtNSfLj@rUjAhYsDbXgHpGm\\\\vWsM|q@_^rOeTtC_QeDkIKyJrHea@rh@}Ohe@}q@j@i`@pm@iS`O_]dg@gPnP{{@`W_c@~JiRwT_Iyn@wCsd@{HyX_LoFsMbCig@vXmNUuLxEaHxDwPmBcOmAk^xCcKzEkMmBuV`BsHoEwIeJuP_@sQtLeF`PqAd@aMlO}Ibg@jLxt@Mjk@wIx[kErMgg@lW}Q|KuIlUoIzC{LsB{IkB_IbBcGi@eAtHs@hP~@nb@zNtj@zH|PpCxMb@h\\\\cS~KaLpOCvMaKhqAoo@bt@_Ur^{Gfo@yHhGkJ_D_TdFiGvQ`Krc@xRld@qLnPoVlSkFxDaPzJsXzVuTR{Q`d@iBhn@iC|KyAqApH}Dnh@`U',\n",
       " 'duration': '8883',\n",
       " 'waypoints_attributes': [{'id': 25761179,\n",
       "   'latitude': 42.4627195,\n",
       "   'longitude': -2.4449852,\n",
       "   'name': 'Logroño'},\n",
       "  {'id': 25761180,\n",
       "   'latitude': 43.2630126,\n",
       "   'longitude': -2.9349852,\n",
       "   'name': 'Bilbao'}]}"
      ]
     },
     "execution_count": 19,
     "metadata": {},
     "output_type": "execute_result"
    }
   ],
   "source": [
    "jasons[100]"
   ]
  },
  {
   "cell_type": "code",
   "execution_count": 20,
   "metadata": {},
   "outputs": [],
   "source": [
    "#Save file\n",
    "with open('GoMore_7366000_to_7369000.json', 'w') as f:\n",
    "    json.dump(jasons, f)"
   ]
  }
 ],
 "metadata": {
  "kernelspec": {
   "display_name": "Python 3",
   "language": "python",
   "name": "python3"
  },
  "language_info": {
   "codemirror_mode": {
    "name": "ipython",
    "version": 3
   },
   "file_extension": ".py",
   "mimetype": "text/x-python",
   "name": "python",
   "nbconvert_exporter": "python",
   "pygments_lexer": "ipython3",
   "version": "3.6.5"
  }
 },
 "nbformat": 4,
 "nbformat_minor": 2
}
