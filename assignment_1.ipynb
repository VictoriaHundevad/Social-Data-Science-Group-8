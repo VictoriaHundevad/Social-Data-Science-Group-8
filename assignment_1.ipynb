{
 "cells": [
  {
   "cell_type": "markdown",
   "metadata": {},
   "source": [
    "# Mandatory Assignment 1\n",
    "\n",
    "This is the first of two mandatory assignments which must be completed during the course. First some practical information:\n",
    "\n",
    "* When is the assignment due?: **23:59, Sunday, August 19, 2018.**\n",
    "* How do you grade the assignment?: You will **peergrade** each other as primary grading. \n",
    "* Can i work with my group?: **yes**\n",
    "\n",
    "The assigment consist of one to tree problems from each of the exercise sets you have solved so far (excluding set 1 and set 9). We've tried to select problems which are self contained, but it might be nessecary to solve some of the previous exercises in each set to fully answer the problems in this assignment.\n",
    "\n",
    "## Problems from Exercise Set 2:\n",
    "\n",
    "> **Ex. 2.2**: Make two lists. The first should be numbered. The second should be unnumbered and contain at least one sublevel. "
   ]
  },
  {
   "cell_type": "markdown",
   "metadata": {},
   "source": [
    "# Answer to Ex. 2.2\n",
    "1. Bananas\n",
    "2. Apples\n",
    "\n",
    "\n",
    "- Bananas\n",
    "- Apples\n",
    "    - Strawberries"
   ]
  },
  {
   "cell_type": "markdown",
   "metadata": {},
   "source": [
    "## Problems from Exercise set 3:\n",
    "\n",
    "> **Ex. 3.1.3:** Let `l1 = ['r ', 'Is', '>', ' < ', 'g ', '?']`. Create from `l1` the sentence \"Is r > g?\" using your knowledge about string formatting. Make sure there is only one space in between worlds.\n",
    ">\n",
    ">> _Hint:_ You should be able to combine the above informations to solve this exercise."
   ]
  },
  {
   "cell_type": "code",
   "execution_count": 1,
   "metadata": {},
   "outputs": [
    {
     "data": {
      "text/plain": [
       "'Is r>g?'"
      ]
     },
     "execution_count": 1,
     "metadata": {},
     "output_type": "execute_result"
    }
   ],
   "source": [
    "# [Answer to Ex. 3.1.3 here]\n",
    "l1 = ['r ', 'Is', '>', ' < ', 'g ', '?']\n",
    "\n",
    "''.join([l1[1], ' ', l1[0].strip(), l1[2], l1[-2].strip(), str(l1[-1])])"
   ]
  },
  {
   "cell_type": "markdown",
   "metadata": {},
   "source": [
    "> **Ex. 3.1.4**: Create an empty dictionary `words` using the `dict()`function. Then add each of the words in `['animal', 'coffee', 'python', 'unit', 'knowledge', 'tread', 'arise']` as a key, with the value being a boolean indicator for whether the word begins with a vowel. The results should look like `{'bacon': False, 'asynchronous': True ...}`\n",
    ">\n",
    ">> _Hint:_ You might want co first construct a function that asseses whether a given word begins with a vowel or not."
   ]
  },
  {
   "cell_type": "code",
   "execution_count": 2,
   "metadata": {},
   "outputs": [
    {
     "name": "stdout",
     "output_type": "stream",
     "text": [
      "[True, False, False, True, False, False, True]\n"
     ]
    },
    {
     "data": {
      "text/plain": [
       "{'animal': True,\n",
       " 'coffee': False,\n",
       " 'python': False,\n",
       " 'unit': True,\n",
       " 'knowledge': False,\n",
       " 'tread': False,\n",
       " 'arise': True}"
      ]
     },
     "execution_count": 2,
     "metadata": {},
     "output_type": "execute_result"
    }
   ],
   "source": [
    "# [Answer to Ex. 3.1.4 here]\n",
    "words = {}\n",
    "values = []\n",
    "keys = ['animal', 'coffee', 'python', 'unit', 'knowledge', 'tread', 'arise']\n",
    "vowels = ['a', 'e', 'i', 'o', 'u', 'y']\n",
    "\n",
    "for key in keys:\n",
    "    if key[0] in vowels : \n",
    "        values.append(True)\n",
    "    else :\n",
    "        values.append(False)\n",
    "print(values)\n",
    "\n",
    "keys_values = list(zip(keys, values))\n",
    "words = dict(keys_values)\n",
    "dict(words)"
   ]
  },
  {
   "cell_type": "markdown",
   "metadata": {},
   "source": [
    "> **Ex. 3.3.2:** use the `requests` module (get it with `pip install requests`) and `construct_link()` to request birth data from the \"FOD\" table. Get all available years (variable \"Tid\"), but only female births (BARNKON=P) . Unpack the json payload and store the result. Wrap the whole thing in a function which takes an url as input and returns the corresponding output.\n",
    ">\n",
    ">> _Hint:_ The `requests.response` object has a `.json()` method. \n",
    ">\n",
    ">> _Note:_ you wrote `construct_link()` in 3.3.1, if you didn't heres the link you need to get: `https://api.statbank.dk/v1/data/FOLK1A/JSONSTAT?lang=en&Tid=*`"
   ]
  },
  {
   "cell_type": "code",
   "execution_count": 7,
   "metadata": {},
   "outputs": [
    {
     "data": {
      "text/plain": [
       "'https://api.statbank.dk/v1/data/FOD/JSONSTAT?lang=en&Tid=*&BARNKON=P'"
      ]
     },
     "execution_count": 7,
     "metadata": {},
     "output_type": "execute_result"
    }
   ],
   "source": [
    "# [Answer to Ex. 3.3.2 here]\n",
    "#Creating function that can generate correct URL\n",
    "import requests \n",
    "import json\n",
    "import pandas as pd\n",
    "import matplotlib.pyplot as plt\n",
    "import numpy as np\n",
    "def construct_link(table_id, variables):\n",
    "    base = 'https://api.statbank.dk/v1/data/{id}/JSONSTAT?lang=en'.format(id = table_id)\n",
    "    \n",
    "    for var in variables:\n",
    "        base += '&{v}'.format(v = var)\n",
    "\n",
    "    return base \n",
    "construct_link('FOD', ['Tid=*', 'BARNKON=P'])"
   ]
  },
  {
   "cell_type": "code",
   "execution_count": 8,
   "metadata": {},
   "outputs": [
    {
     "data": {
      "text/plain": [
       "<Response [200]>"
      ]
     },
     "execution_count": 8,
     "metadata": {},
     "output_type": "execute_result"
    }
   ],
   "source": [
    "#Wrapping a function around saving a file, pulled from a URL\n",
    "def function2(x):\n",
    "    ladies = requests.get(x)\n",
    "    ladies.json()\n",
    "    \n",
    "    with open ('ladies1.json', 'w') as f:\n",
    "        resp_json_str = json.dumps(ladies.json()) #dette får det tilbage til dets originale form\n",
    "        f.write(resp_json_str)\n",
    "    return ladies\n",
    "function2('https://api.statbank.dk/v1/data/FOD/JSONSTAT?lang=en&Tid=*&BARNKON=D') \n",
    "#the URL you've generated from the other link, could be any link with data attached"
   ]
  },
  {
   "cell_type": "markdown",
   "metadata": {},
   "source": [
    "## Problems from exercise set 4\n"
   ]
  },
  {
   "cell_type": "code",
   "execution_count": 8,
   "metadata": {},
   "outputs": [],
   "source": [
    "import numpy as np\n",
    "import pandas as pd"
   ]
  },
  {
   "cell_type": "markdown",
   "metadata": {},
   "source": [
    "> **Ex. 4.1.1:** Use Pandas' CSV reader to fetch  daily data weather from 1864 for various stations - available [here](https://www1.ncdc.noaa.gov/pub/data/ghcn/daily/by_year/). \n",
    ">\n",
    ">> *Hint 1*: for compressed files you may need to specify the keyword `compression`.\n",
    ">\n",
    ">> *Hint 2*: keyword `header` can be specified as the CSV has no column names.\n",
    ">\n",
    ">> *Hint 3*: Specify the path, as the URL linking directly to the 1864 file. "
   ]
  },
  {
   "cell_type": "code",
   "execution_count": 9,
   "metadata": {},
   "outputs": [
    {
     "name": "stdout",
     "output_type": "stream",
     "text": [
      "             0         1     2    3    4    5  6   7\n",
      "0  ITE00100550  18640101  TMAX   10  NaN  NaN  E NaN\n",
      "1  ITE00100550  18640101  TMIN  -23  NaN  NaN  E NaN\n",
      "2  ITE00100550  18640101  PRCP   25  NaN  NaN  E NaN\n",
      "3  ASN00079028  18640101  PRCP    0  NaN  NaN  a NaN\n",
      "4  USC00064757  18640101  PRCP  119  NaN  NaN  F NaN\n"
     ]
    }
   ],
   "source": [
    "# [Answer to Ex. 4.1.1 here]\n",
    "import pandas as pd\n",
    "url = 'https://www1.ncdc.noaa.gov/pub/data/ghcn/daily/by_year/1864.csv.gz'\n",
    "df = pd.read_csv(url, header=None, compression='gzip')\n",
    "print(df.head())"
   ]
  },
  {
   "cell_type": "markdown",
   "metadata": {},
   "source": [
    "> **Ex. 4.1.2:** Structure your weather DataFrame by using only the relevant columns (station identifier, data, observation type, observation value), rename them. Make sure observations are correctly formated (how many decimals should we add? one?).\n",
    ">\n",
    ">> *Hint:* rename can be done with `df.columns=COLS` where `COLS` is a list of column names."
   ]
  },
  {
   "cell_type": "code",
   "execution_count": 10,
   "metadata": {},
   "outputs": [
    {
     "name": "stdout",
     "output_type": "stream",
     "text": [
      "       station      data  type  value\n",
      "0  ITE00100550  18640101  TMAX     10\n",
      "1  ITE00100550  18640101  TMIN    -23\n",
      "2  ITE00100550  18640101  PRCP     25\n",
      "3  ASN00079028  18640101  PRCP      0\n",
      "4  USC00064757  18640101  PRCP    119\n"
     ]
    }
   ],
   "source": [
    "# [Answer to Ex. 4.1.2 here]\n",
    "df=df.iloc[:,0:4]\n",
    "column_name = ['station', 'data', 'type', 'value']\n",
    "df.columns=column_name\n",
    "print(df.head())"
   ]
  },
  {
   "cell_type": "markdown",
   "metadata": {},
   "source": [
    "> **Ex. 4.1.3:**  Select data for the station `ITE00100550` and only observations for maximal temperature. Make a copy of the DataFrame. Explain in a one or two sentences how copying works.\n",
    ">\n",
    ">> *Hint 1*: the `&` operator works elementwise on boolean series (like `and` in core python).\n",
    ">\n",
    ">> *Hint 2*: copying of the dataframe is done with the `copy` method for DataFrames."
   ]
  },
  {
   "cell_type": "code",
   "execution_count": 11,
   "metadata": {},
   "outputs": [
    {
     "name": "stdout",
     "output_type": "stream",
     "text": [
      "         station      data  type  value\n",
      "0    ITE00100550  18640101  TMAX     10\n",
      "75   ITE00100550  18640102  TMAX      8\n",
      "152  ITE00100550  18640103  TMAX    -28\n",
      "227  ITE00100550  18640104  TMAX      0\n",
      "305  ITE00100550  18640105  TMAX    -19\n"
     ]
    }
   ],
   "source": [
    "# [Answer to Ex. 4.1.3 here]\n",
    "df_copy = df[(df.station == 'ITE00100550') & (df.type == 'TMAX')].copy()\n",
    "print(df_copy.head())"
   ]
  },
  {
   "cell_type": "markdown",
   "metadata": {},
   "source": [
    "> **Ex. 4.1.4:** Make a new column called `TMAX_F` where you have converted the temperature variables to Fahrenheit. \n",
    ">\n",
    ">> *Hint*: Conversion is $F = 32 + 1.8*C$ where $F$ is Fahrenheit and $C$ is Celsius."
   ]
  },
  {
   "cell_type": "code",
   "execution_count": 12,
   "metadata": {},
   "outputs": [
    {
     "name": "stdout",
     "output_type": "stream",
     "text": [
      "         station      data  type  value  TMAX_F\n",
      "0    ITE00100550  18640101  TMAX     10    50.0\n",
      "75   ITE00100550  18640102  TMAX      8    46.4\n",
      "152  ITE00100550  18640103  TMAX    -28   -18.4\n",
      "227  ITE00100550  18640104  TMAX      0    32.0\n",
      "305  ITE00100550  18640105  TMAX    -19    -2.2\n"
     ]
    }
   ],
   "source": [
    "# [Answer to Ex. 4.1.4 here]\n",
    "df_copy['TMAX_F'] = df_copy.value * 1.8 + 32\n",
    "print(df_copy.head())"
   ]
  },
  {
   "cell_type": "markdown",
   "metadata": {},
   "source": [
    "## Problems from exercise set 5"
   ]
  },
  {
   "cell_type": "code",
   "execution_count": 13,
   "metadata": {},
   "outputs": [],
   "source": [
    "import matplotlib.pyplot as plt\n",
    "import numpy as np \n",
    "import pandas as pd\n",
    "import seaborn as sns \n",
    "\n",
    "%matplotlib inline \n",
    "\n",
    "iris = sns.load_dataset('iris')\n",
    "titanic = sns.load_dataset('titanic')"
   ]
  },
  {
   "cell_type": "markdown",
   "metadata": {},
   "source": [
    "> **Ex. 5.1.1:**: Show the first five rows of the titanic dataset. What information is in the dataset? Use a barplot to show the probability of survival for men and women within each passenger class. Can you make a boxplot showing the same information (why/why not?). _Bonus:_ show a boxplot for the fare-prices within each passenger class. \n",
    ">\n",
    "> Spend five minutes discussing what you can learn about the survival-selection aboard titanic from the figure(s).\n",
    ">\n",
    "> > _Hint:_ https://seaborn.pydata.org/generated/seaborn.barplot.html, specifically the `hue` option.\n"
   ]
  },
  {
   "cell_type": "code",
   "execution_count": 14,
   "metadata": {},
   "outputs": [
    {
     "name": "stdout",
     "output_type": "stream",
     "text": [
      "   survived  pclass     sex   age  sibsp  parch     fare embarked  class  \\\n",
      "0         0       3    male  22.0      1      0   7.2500        S  Third   \n",
      "1         1       1  female  38.0      1      0  71.2833        C  First   \n",
      "2         1       3  female  26.0      0      0   7.9250        S  Third   \n",
      "3         1       1  female  35.0      1      0  53.1000        S  First   \n",
      "4         0       3    male  35.0      0      0   8.0500        S  Third   \n",
      "\n",
      "     who  adult_male deck  embark_town alive  alone  \n",
      "0    man        True  NaN  Southampton    no  False  \n",
      "1  woman       False    C    Cherbourg   yes  False  \n",
      "2  woman       False  NaN  Southampton   yes   True  \n",
      "3  woman       False    C  Southampton   yes  False  \n",
      "4    man        True  NaN  Southampton    no   True  \n",
      "AxesSubplot(0.125,0.125;0.775x0.755)\n"
     ]
    },
    {
     "data": {
      "image/png": "[encoded data removed]",
      "text/plain": [
       "<Figure size 432x288 with 1 Axes>"
      ]
     },
     "metadata": {},
     "output_type": "display_data"
    }
   ],
   "source": [
    "# [Answer to Ex. 5.1.1 here]\n",
    "iris = sns.load_dataset('iris')\n",
    "titanic = sns.load_dataset('titanic')\n",
    "print(titanic.head())\n",
    "f1 = sns.barplot(x='sex', y='survived', hue='class', data=titanic) \n",
    "f2 = sns.boxplot(x='class', y='fare', data=titanic)\n",
    "print(f1)\n",
    "\n",
    "#You cannot use a boxplot to explain a binary y-variable,\n",
    "#as the boxplot shows quartiles and there are no quartiles in binary variables"
   ]
  },
  {
   "cell_type": "markdown",
   "metadata": {},
   "source": [
    "> **Ex. 5.1.2:** Using the iris flower dataset, draw a scatterplot of sepal length and petal length. Include a second order polynomial fitted to the data. Add a title to the plot and rename the axis labels.\n",
    "> _Discuss:_ Is this a meaningful way to display the data? What could we do differently?\n",
    ">\n",
    "> For a better understanding of the dataset this image might be useful:\n",
    "> <img src=\"iris_pic.png\" alt=\"Drawing\" style=\"width: 200px;\"/>\n",
    ">\n",
    ">> _Hint:_ use the `.regplot` method from seaborn. "
   ]
  },
  {
   "cell_type": "code",
   "execution_count": 15,
   "metadata": {},
   "outputs": [
    {
     "name": "stdout",
     "output_type": "stream",
     "text": [
      "   sepal_length  sepal_width  petal_length  petal_width species\n",
      "0           5.1          3.5           1.4          0.2  setosa\n",
      "1           4.9          3.0           1.4          0.2  setosa\n",
      "2           4.7          3.2           1.3          0.2  setosa\n",
      "3           4.6          3.1           1.5          0.2  setosa\n",
      "4           5.0          3.6           1.4          0.2  setosa\n"
     ]
    },
    {
     "data": {
      "image/png": "[encoded data removed]",
      "text/plain": [
       "<Figure size 432x288 with 1 Axes>"
      ]
     },
     "metadata": {},
     "output_type": "display_data"
    }
   ],
   "source": [
    "# [Answer to Ex. 5.1.2 here]\n",
    "print(iris.head())\n",
    "sns.regplot(x=iris['sepal_length'], y=iris['petal_length'], scatter=True, fit_reg=True, order=2)\n",
    "plt.xlabel('Sepal length') \n",
    "plt.ylabel('Petal length')\n",
    "plt.title('Iris')\n",
    "plt.show()"
   ]
  },
  {
   "cell_type": "markdown",
   "metadata": {},
   "source": [
    "> **Ex. 5.1.3:** Combine the two of the figures you created above into a two-panel figure similar to the one shown here:\n",
    "> <img src=\"Example.png\" alt=\"Drawing\" style=\"width: 600px;\"/>\n",
    ">\n",
    "> Save the figure as a png file on your computer. \n",
    ">> _Hint:_ See [this question](https://stackoverflow.com/questions/41384040/subplot-for-seaborn-boxplot) on stackoverflow for inspiration."
   ]
  },
  {
   "cell_type": "code",
   "execution_count": 16,
   "metadata": {},
   "outputs": [
    {
     "data": {
      "text/plain": [
       "<matplotlib.axes._subplots.AxesSubplot at 0x1a207a3240>"
      ]
     },
     "execution_count": 16,
     "metadata": {},
     "output_type": "execute_result"
    },
    {
     "data": {
      "image/png": "[encoded data removed]",
      "text/plain": [
       "<Figure size 864x360 with 2 Axes>"
      ]
     },
     "metadata": {},
     "output_type": "display_data"
    }
   ],
   "source": [
    "# [Answer to Ex. 5.1.3 here]\n",
    "f, axes = plt.subplots(1, 2, figsize=(12,5))\n",
    "sns.barplot(x='sex', y='survived', hue='class', data=titanic, ax=axes[1]) \n",
    "sns.boxplot(x='class', y='fare', data=titanic, ax=axes[0])"
   ]
  },
  {
   "cell_type": "markdown",
   "metadata": {},
   "source": [
    "> **Ex. 5.1.4:** Use [pairplot with hue](https://seaborn.pydata.org/generated/seaborn.pairplot.html) to create a figure that clearly shows how the different species vary across measurements. Change the color palette and remove the shading from the density plots. _Bonus:_ Try to explain how the `diag_kws` argument works (_hint:_ [read here](https://stackoverflow.com/questions/1769403/understanding-kwargs-in-python))"
   ]
  },
  {
   "cell_type": "code",
   "execution_count": 17,
   "metadata": {},
   "outputs": [
    {
     "name": "stdout",
     "output_type": "stream",
     "text": [
      "   sepal_length  sepal_width  petal_length  petal_width species\n",
      "0           5.1          3.5           1.4          0.2  setosa\n",
      "1           4.9          3.0           1.4          0.2  setosa\n",
      "2           4.7          3.2           1.3          0.2  setosa\n",
      "3           4.6          3.1           1.5          0.2  setosa\n",
      "4           5.0          3.6           1.4          0.2  setosa\n"
     ]
    },
    {
     "data": {
      "text/plain": [
       "<seaborn.axisgrid.PairGrid at 0x10ea6a5f8>"
      ]
     },
     "execution_count": 17,
     "metadata": {},
     "output_type": "execute_result"
    },
    {
     "data": {
      "image/png": "[encoded data removed]",
      "text/plain": [
       "<Figure size 804.75x720 with 20 Axes>"
      ]
     },
     "metadata": {},
     "output_type": "display_data"
    }
   ],
   "source": [
    "# [Answer to Ex. 5.1.4 here]\n",
    "print(iris.head())\n",
    "sns.pairplot(iris, hue='species', palette='Blues')"
   ]
  },
  {
   "cell_type": "markdown",
   "metadata": {},
   "source": [
    "## Problems from exercise set 6\n",
    "\n",
    "> _Note:_ A central part of these exercises and the ones from exercise set 7 is downloading data from the NOAA servers. If you cannot complete this part, you can download the data as csv files **from [github](https://github.com/abjer/sds/tree/master/material/session_7)**."
   ]
  },
  {
   "cell_type": "markdown",
   "metadata": {},
   "source": [
    "> **Ex. 6.1.4:** Extract the country code from the station name into a separate column.\n",
    ">\n",
    ">> _Hint:_ The station column contains a GHCND ID, given to each weather station by NOAA. The format of these ID's is a 2-3 letter country code, followed by a integer identifying the specific station. A simple approach is to assume a fixed length of the country ID. A more complex way would be to use the [`re`](https://docs.python.org/2/library/re.html) module."
   ]
  },
  {
   "cell_type": "code",
   "execution_count": 19,
   "metadata": {},
   "outputs": [
    {
     "ename": "AttributeError",
     "evalue": "Can only use .dt accessor with datetimelike values",
     "output_type": "error",
     "traceback": [
      "\u001b[0;31m---------------------------------------------------------------------------\u001b[0m",
      "\u001b[0;31mAttributeError\u001b[0m                            Traceback (most recent call last)",
      "\u001b[0;32m<ipython-input-19-d4724e7cf5b7>\u001b[0m in \u001b[0;36m<module>\u001b[0;34m()\u001b[0m\n\u001b[1;32m     18\u001b[0m \u001b[0;31m# print(df_sorted['datetime'].dt.month)\u001b[0m\u001b[0;34m\u001b[0m\u001b[0;34m\u001b[0m\u001b[0m\n\u001b[1;32m     19\u001b[0m \u001b[0;34m\u001b[0m\u001b[0m\n\u001b[0;32m---> 20\u001b[0;31m \u001b[0mdf_sorted\u001b[0m \u001b[0;34m=\u001b[0m \u001b[0mdf_sorted\u001b[0m\u001b[0;34m.\u001b[0m\u001b[0massign\u001b[0m\u001b[0;34m(\u001b[0m\u001b[0mmonth\u001b[0m\u001b[0;34m=\u001b[0m\u001b[0mdf_sorted\u001b[0m\u001b[0;34m[\u001b[0m\u001b[0;34m'datetime'\u001b[0m\u001b[0;34m]\u001b[0m\u001b[0;34m.\u001b[0m\u001b[0mdt\u001b[0m\u001b[0;34m.\u001b[0m\u001b[0mmonth\u001b[0m\u001b[0;34m)\u001b[0m\u001b[0;34m\u001b[0m\u001b[0m\n\u001b[0m\u001b[1;32m     21\u001b[0m \u001b[0mdf_datetime_sorted\u001b[0m \u001b[0;34m[\u001b[0m\u001b[0;34m'country_code'\u001b[0m\u001b[0;34m]\u001b[0m \u001b[0;34m=\u001b[0m \u001b[0mdf_datetime_sorted\u001b[0m\u001b[0;34m[\u001b[0m\u001b[0;34m'station'\u001b[0m\u001b[0;34m]\u001b[0m\u001b[0;34m.\u001b[0m\u001b[0mastype\u001b[0m\u001b[0;34m(\u001b[0m\u001b[0mstr\u001b[0m\u001b[0;34m)\u001b[0m\u001b[0;34m.\u001b[0m\u001b[0mstr\u001b[0m\u001b[0;34m[\u001b[0m\u001b[0;36m0\u001b[0m\u001b[0;34m:\u001b[0m\u001b[0;36m3\u001b[0m\u001b[0;34m]\u001b[0m\u001b[0;34m\u001b[0m\u001b[0m\n\u001b[1;32m     22\u001b[0m \u001b[0mdf_datetime_sorted\u001b[0m\u001b[0;34m.\u001b[0m\u001b[0mhead\u001b[0m\u001b[0;34m(\u001b[0m\u001b[0;34m)\u001b[0m\u001b[0;34m\u001b[0m\u001b[0m\n",
      "\u001b[0;32m/anaconda3/lib/python3.6/site-packages/pandas/core/generic.py\u001b[0m in \u001b[0;36m__getattr__\u001b[0;34m(self, name)\u001b[0m\n\u001b[1;32m   4366\u001b[0m         if (name in self._internal_names_set or name in self._metadata or\n\u001b[1;32m   4367\u001b[0m                 name in self._accessors):\n\u001b[0;32m-> 4368\u001b[0;31m             \u001b[0;32mreturn\u001b[0m \u001b[0mobject\u001b[0m\u001b[0;34m.\u001b[0m\u001b[0m__getattribute__\u001b[0m\u001b[0;34m(\u001b[0m\u001b[0mself\u001b[0m\u001b[0;34m,\u001b[0m \u001b[0mname\u001b[0m\u001b[0;34m)\u001b[0m\u001b[0;34m\u001b[0m\u001b[0m\n\u001b[0m\u001b[1;32m   4369\u001b[0m         \u001b[0;32melse\u001b[0m\u001b[0;34m:\u001b[0m\u001b[0;34m\u001b[0m\u001b[0m\n\u001b[1;32m   4370\u001b[0m             \u001b[0;32mif\u001b[0m \u001b[0mself\u001b[0m\u001b[0;34m.\u001b[0m\u001b[0m_info_axis\u001b[0m\u001b[0;34m.\u001b[0m\u001b[0m_can_hold_identifiers_and_holds_name\u001b[0m\u001b[0;34m(\u001b[0m\u001b[0mname\u001b[0m\u001b[0;34m)\u001b[0m\u001b[0;34m:\u001b[0m\u001b[0;34m\u001b[0m\u001b[0m\n",
      "\u001b[0;32m/anaconda3/lib/python3.6/site-packages/pandas/core/accessor.py\u001b[0m in \u001b[0;36m__get__\u001b[0;34m(self, obj, cls)\u001b[0m\n\u001b[1;32m    130\u001b[0m             \u001b[0;31m# we're accessing the attribute of the class, i.e., Dataset.geo\u001b[0m\u001b[0;34m\u001b[0m\u001b[0;34m\u001b[0m\u001b[0m\n\u001b[1;32m    131\u001b[0m             \u001b[0;32mreturn\u001b[0m \u001b[0mself\u001b[0m\u001b[0;34m.\u001b[0m\u001b[0m_accessor\u001b[0m\u001b[0;34m\u001b[0m\u001b[0m\n\u001b[0;32m--> 132\u001b[0;31m         \u001b[0maccessor_obj\u001b[0m \u001b[0;34m=\u001b[0m \u001b[0mself\u001b[0m\u001b[0;34m.\u001b[0m\u001b[0m_accessor\u001b[0m\u001b[0;34m(\u001b[0m\u001b[0mobj\u001b[0m\u001b[0;34m)\u001b[0m\u001b[0;34m\u001b[0m\u001b[0m\n\u001b[0m\u001b[1;32m    133\u001b[0m         \u001b[0;31m# Replace the property with the accessor object. Inspired by:\u001b[0m\u001b[0;34m\u001b[0m\u001b[0;34m\u001b[0m\u001b[0m\n\u001b[1;32m    134\u001b[0m         \u001b[0;31m# http://www.pydanny.com/cached-property.html\u001b[0m\u001b[0;34m\u001b[0m\u001b[0;34m\u001b[0m\u001b[0m\n",
      "\u001b[0;32m/anaconda3/lib/python3.6/site-packages/pandas/core/indexes/accessors.py\u001b[0m in \u001b[0;36m__new__\u001b[0;34m(cls, data)\u001b[0m\n\u001b[1;32m    323\u001b[0m             \u001b[0;32mpass\u001b[0m  \u001b[0;31m# we raise an attribute error anyway\u001b[0m\u001b[0;34m\u001b[0m\u001b[0m\n\u001b[1;32m    324\u001b[0m \u001b[0;34m\u001b[0m\u001b[0m\n\u001b[0;32m--> 325\u001b[0;31m         raise AttributeError(\"Can only use .dt accessor with datetimelike \"\n\u001b[0m\u001b[1;32m    326\u001b[0m                              \"values\")\n",
      "\u001b[0;31mAttributeError\u001b[0m: Can only use .dt accessor with datetimelike values"
     ]
    }
   ],
   "source": [
    "# [Answer to Ex. 6.1.4]\n",
    "url = 'https://www1.ncdc.noaa.gov/pub/data/ghcn/daily/by_year/1864.csv.gz'\n",
    "\n",
    "df_weather = pd.read_csv(url,\n",
    "                             compression='gzip',\n",
    "                             header=None).iloc[:,:4]\n",
    "\n",
    "df_weather.columns = ['station', 'datetime', 'obs_type', 'obs_value']\n",
    "df_weather['obs_value'] = df_weather['obs_value'] / 10\n",
    "df_select = df_weather[(df_weather.station == 'ITE00100550') & (df_weather.obs_type == 'TMAX')].copy()\n",
    "df_select['TMAX_F'] = 32 + 1.8 * df_select['obs_value']\n",
    "df_sorted = df_select.reset_index(drop=True).sort_values(by=['obs_value'])\n",
    "df_select['datetime_dt'] = pd.to_datetime(df_select['datetime'], format = '%Y%m%d')\n",
    "# month column\n",
    "df_select['month'] = df_select.datetime_dt.dt.month\n",
    "df_select.head()\n",
    "\n",
    "# print(df_sorted['datetime'].dt.month)\n",
    "\n",
    "df_sorted = df_sorted.assign(month=df_sorted['datetime'].dt.month)\n",
    "df_datetime_sorted ['country_code'] = df_datetime_sorted['station'].astype(str).str[0:3]\n",
    "df_datetime_sorted.head()"
   ]
  },
  {
   "cell_type": "markdown",
   "metadata": {},
   "source": [
    "> **Ex. 6.1.5:** Make a function that downloads and formats the weather data according to previous exercises in Exercise Section 4.1, 6.1. You should use data for ALL stations but still only select maximal temperature. _Bonus:_ To validate that your function works plot the temperature curve for each country in the same window. Use `plt.legend()` to add a legend. "
   ]
  },
  {
   "cell_type": "code",
   "execution_count": 20,
   "metadata": {},
   "outputs": [
    {
     "data": {
      "image/png": "[encoded data removed]",
      "text/plain": [
       "<Figure size 792x432 with 1 Axes>"
      ]
     },
     "metadata": {},
     "output_type": "display_data"
    }
   ],
   "source": [
    "# [Answer to Ex. 6.1.5]\n",
    "%matplotlib inline\n",
    "import pandas as pd\n",
    "import matplotlib.pyplot as plt\n",
    "def weather(x):\n",
    "    url = 'https://www1.ncdc.noaa.gov/pub/data/ghcn/daily/by_year/' + x + '.csv.gz'\n",
    "    df_weather = pd.read_csv(url,\n",
    "                         compression='gzip',\n",
    "                         header=None).iloc[:,:4]\n",
    "    df_weather.columns = ['station', 'datetime', 'obs_type', 'obs_value']\n",
    "    df_weather['obs_value'] = df_weather['obs_value'] / 10\n",
    "    df_select = df_weather[(df_weather.obs_type == 'TMAX')].copy()\n",
    "    df_select['TMAX_F'] = 32 + 1.8 * df_select['obs_value']\n",
    "    df_sorted = df_select.reset_index(drop=True).sort_values(by=['obs_value']) \n",
    "    df_sorted['datetime_dt'] = pd.to_datetime(df_sorted['datetime'], format = '%Y%m%d')\n",
    "# month column\n",
    "    df_sorted['month'] = df_sorted.datetime_dt.dt.month\n",
    "    df_index = df_sorted\n",
    "    df_index = df_index.sort_values(by='datetime', ascending=True)\n",
    "    df_index['Country code'] = df_index['station'].astype(str).str[0:3]\n",
    "    return df_index\n",
    "    \n",
    "weather_1865 = weather('1865')\n",
    "#print(weather_1865)\n",
    "#print(weather_1865)\n",
    "#weather_1865_CC = weather_1865.set_index('Country code')\n",
    "\n",
    "\n",
    "#print(weather_1865_CC)\n",
    "#Bonus: To validate that your function works plot the \n",
    "#temperature curve for each country in the same window. Use plt.legend() to add a legend.\n",
    "#print(weather_1865.head())\n",
    "#weather_1865_CC.sort_values(by='Country code', ascending=True)\n",
    "weather_1865\\\n",
    "    .set_index('datetime_dt')\\\n",
    "    .obs_value\\\n",
    "    .plot(figsize=[11,6])\n",
    "plt.show()\n",
    "#weather_1865_CC.distplot(figsize = (12, 5.5))\n",
    "\n",
    "#country_code = ['Country code']\n",
    "\n",
    "#for country in country_code:\n",
    "    #CC = weather_1865_CC[weather_1865_CC['Country code'] == country]\n",
    "    \n",
    "    #Draw the density plot\n",
    "    #sns.distplot(CC['month'], hist = False, kde = True, kde_kws = {'linewidth': 3})\n",
    "#plt.xlabel('Month') \n",
    "#plt.ylabel('Temp')\n",
    "#plt.title('Countries')\n",
    "#weather_1874.plot"
   ]
  },
  {
   "cell_type": "markdown",
   "metadata": {},
   "source": [
    "## Problems from exercise set 7\n",
    "\n",
    "> _Note:_ Once again if you haven't managed to download the data from NOAA, you can refer to the github repo to get csv-files containing the required data."
   ]
  },
  {
   "cell_type": "code",
   "execution_count": 22,
   "metadata": {},
   "outputs": [],
   "source": [
    "%matplotlib inline \n",
    "\n",
    "import pandas as pd \n",
    "import matplotlib.pyplot as plt\n",
    "import matplotlib as mpl\n",
    "\n",
    "# Increases the plot size a little\n",
    "mpl.rcParams['figure.figsize'] = 11, 6"
   ]
  },
  {
   "cell_type": "markdown",
   "metadata": {},
   "source": [
    "> **Ex. 7.1.1:** Plot the monthly max,min, mean, first and third quartiles for maximum temperature for our station with the ID _'ITE00100550'_ in 1864. \n",
    "\n",
    "> *Hint*: the method `describe` computes all these measures."
   ]
  },
  {
   "cell_type": "code",
   "execution_count": 21,
   "metadata": {},
   "outputs": [
    {
     "data": {
      "text/html": [
       "<div>\n",
       "<style scoped>\n",
       "    .dataframe tbody tr th:only-of-type {\n",
       "        vertical-align: middle;\n",
       "    }\n",
       "\n",
       "    .dataframe tbody tr th {\n",
       "        vertical-align: top;\n",
       "    }\n",
       "\n",
       "    .dataframe thead tr th {\n",
       "        text-align: left;\n",
       "    }\n",
       "\n",
       "    .dataframe thead tr:last-of-type th {\n",
       "        text-align: right;\n",
       "    }\n",
       "</style>\n",
       "<table border=\"1\" class=\"dataframe\">\n",
       "  <thead>\n",
       "    <tr>\n",
       "      <th></th>\n",
       "      <th colspan=\"8\" halign=\"left\">TMAX_F</th>\n",
       "    </tr>\n",
       "    <tr>\n",
       "      <th></th>\n",
       "      <th>count</th>\n",
       "      <th>mean</th>\n",
       "      <th>std</th>\n",
       "      <th>min</th>\n",
       "      <th>25%</th>\n",
       "      <th>50%</th>\n",
       "      <th>75%</th>\n",
       "      <th>max</th>\n",
       "    </tr>\n",
       "    <tr>\n",
       "      <th>month</th>\n",
       "      <th></th>\n",
       "      <th></th>\n",
       "      <th></th>\n",
       "      <th></th>\n",
       "      <th></th>\n",
       "      <th></th>\n",
       "      <th></th>\n",
       "      <th></th>\n",
       "    </tr>\n",
       "  </thead>\n",
       "  <tbody>\n",
       "    <tr>\n",
       "      <th>1</th>\n",
       "      <td>31.0</td>\n",
       "      <td>31.860645</td>\n",
       "      <td>5.516290</td>\n",
       "      <td>20.66</td>\n",
       "      <td>28.040</td>\n",
       "      <td>32.00</td>\n",
       "      <td>35.420</td>\n",
       "      <td>41.54</td>\n",
       "    </tr>\n",
       "    <tr>\n",
       "      <th>2</th>\n",
       "      <td>29.0</td>\n",
       "      <td>39.442069</td>\n",
       "      <td>5.456973</td>\n",
       "      <td>28.76</td>\n",
       "      <td>34.700</td>\n",
       "      <td>39.92</td>\n",
       "      <td>44.240</td>\n",
       "      <td>47.12</td>\n",
       "    </tr>\n",
       "    <tr>\n",
       "      <th>3</th>\n",
       "      <td>31.0</td>\n",
       "      <td>53.960000</td>\n",
       "      <td>5.004734</td>\n",
       "      <td>46.22</td>\n",
       "      <td>50.090</td>\n",
       "      <td>53.78</td>\n",
       "      <td>57.470</td>\n",
       "      <td>64.40</td>\n",
       "    </tr>\n",
       "    <tr>\n",
       "      <th>4</th>\n",
       "      <td>30.0</td>\n",
       "      <td>61.238000</td>\n",
       "      <td>8.076958</td>\n",
       "      <td>43.34</td>\n",
       "      <td>57.965</td>\n",
       "      <td>61.25</td>\n",
       "      <td>65.120</td>\n",
       "      <td>77.18</td>\n",
       "    </tr>\n",
       "    <tr>\n",
       "      <th>5</th>\n",
       "      <td>31.0</td>\n",
       "      <td>70.647742</td>\n",
       "      <td>5.962719</td>\n",
       "      <td>57.20</td>\n",
       "      <td>67.100</td>\n",
       "      <td>69.98</td>\n",
       "      <td>74.840</td>\n",
       "      <td>80.60</td>\n",
       "    </tr>\n",
       "    <tr>\n",
       "      <th>6</th>\n",
       "      <td>30.0</td>\n",
       "      <td>80.006000</td>\n",
       "      <td>5.267438</td>\n",
       "      <td>68.72</td>\n",
       "      <td>77.180</td>\n",
       "      <td>81.32</td>\n",
       "      <td>83.300</td>\n",
       "      <td>88.34</td>\n",
       "    </tr>\n",
       "    <tr>\n",
       "      <th>7</th>\n",
       "      <td>31.0</td>\n",
       "      <td>84.896774</td>\n",
       "      <td>3.443522</td>\n",
       "      <td>77.72</td>\n",
       "      <td>83.210</td>\n",
       "      <td>85.64</td>\n",
       "      <td>87.620</td>\n",
       "      <td>90.50</td>\n",
       "    </tr>\n",
       "    <tr>\n",
       "      <th>8</th>\n",
       "      <td>31.0</td>\n",
       "      <td>84.060645</td>\n",
       "      <td>6.830474</td>\n",
       "      <td>69.80</td>\n",
       "      <td>79.610</td>\n",
       "      <td>84.74</td>\n",
       "      <td>88.880</td>\n",
       "      <td>94.64</td>\n",
       "    </tr>\n",
       "    <tr>\n",
       "      <th>9</th>\n",
       "      <td>30.0</td>\n",
       "      <td>75.386000</td>\n",
       "      <td>6.517389</td>\n",
       "      <td>64.40</td>\n",
       "      <td>70.700</td>\n",
       "      <td>74.03</td>\n",
       "      <td>80.240</td>\n",
       "      <td>85.82</td>\n",
       "    </tr>\n",
       "    <tr>\n",
       "      <th>10</th>\n",
       "      <td>31.0</td>\n",
       "      <td>61.734839</td>\n",
       "      <td>4.276132</td>\n",
       "      <td>53.42</td>\n",
       "      <td>59.000</td>\n",
       "      <td>60.80</td>\n",
       "      <td>65.030</td>\n",
       "      <td>68.90</td>\n",
       "    </tr>\n",
       "    <tr>\n",
       "      <th>11</th>\n",
       "      <td>30.0</td>\n",
       "      <td>49.466000</td>\n",
       "      <td>4.702739</td>\n",
       "      <td>41.00</td>\n",
       "      <td>45.815</td>\n",
       "      <td>50.36</td>\n",
       "      <td>52.475</td>\n",
       "      <td>58.28</td>\n",
       "    </tr>\n",
       "    <tr>\n",
       "      <th>12</th>\n",
       "      <td>31.0</td>\n",
       "      <td>41.569032</td>\n",
       "      <td>3.916423</td>\n",
       "      <td>34.70</td>\n",
       "      <td>38.480</td>\n",
       "      <td>42.08</td>\n",
       "      <td>44.600</td>\n",
       "      <td>48.74</td>\n",
       "    </tr>\n",
       "  </tbody>\n",
       "</table>\n",
       "</div>"
      ],
      "text/plain": [
       "      TMAX_F                                                          \n",
       "       count       mean       std    min     25%    50%     75%    max\n",
       "month                                                                 \n",
       "1       31.0  31.860645  5.516290  20.66  28.040  32.00  35.420  41.54\n",
       "2       29.0  39.442069  5.456973  28.76  34.700  39.92  44.240  47.12\n",
       "3       31.0  53.960000  5.004734  46.22  50.090  53.78  57.470  64.40\n",
       "4       30.0  61.238000  8.076958  43.34  57.965  61.25  65.120  77.18\n",
       "5       31.0  70.647742  5.962719  57.20  67.100  69.98  74.840  80.60\n",
       "6       30.0  80.006000  5.267438  68.72  77.180  81.32  83.300  88.34\n",
       "7       31.0  84.896774  3.443522  77.72  83.210  85.64  87.620  90.50\n",
       "8       31.0  84.060645  6.830474  69.80  79.610  84.74  88.880  94.64\n",
       "9       30.0  75.386000  6.517389  64.40  70.700  74.03  80.240  85.82\n",
       "10      31.0  61.734839  4.276132  53.42  59.000  60.80  65.030  68.90\n",
       "11      30.0  49.466000  4.702739  41.00  45.815  50.36  52.475  58.28\n",
       "12      31.0  41.569032  3.916423  34.70  38.480  42.08  44.600  48.74"
      ]
     },
     "execution_count": 21,
     "metadata": {},
     "output_type": "execute_result"
    }
   ],
   "source": [
    "# [Answer to Ex. 7.1.1]\n",
    "url = 'https://www1.ncdc.noaa.gov/pub/data/ghcn/daily/by_year/1864.csv.gz'\n",
    "\n",
    "df_weather = pd.read_csv(url,\n",
    "                             compression='gzip',\n",
    "                             header=None).iloc[:,:4]\n",
    "\n",
    "df_weather.columns = ['station', 'datetime', 'obs_type', 'obs_value']\n",
    "df_weather['obs_value'] = df_weather['obs_value'] / 10\n",
    "df_select = df_weather[(df_weather.station == 'ITE00100550') & (df_weather.obs_type == 'TMAX')].copy()\n",
    "df_select['TMAX_F'] = 32 + 1.8 * df_select['obs_value']\n",
    "df_sorted = df_select.reset_index(drop=True).sort_values(by=['obs_value'])\n",
    "df_select['datetime_dt'] = pd.to_datetime(df_select['datetime'], format = '%Y%m%d')\n",
    "# month column\n",
    "df_select['month'] = df_select.datetime_dt.dt.month\n",
    "df_select.head()\n",
    "\n",
    "# Description of data\n",
    "split_vars = ['month'] \n",
    "apply_vars = ['TMAX_F']\n",
    "df_select\\\n",
    "    .groupby(split_vars)\\\n",
    "    [apply_vars]\\\n",
    "    .describe() #indeholder mean, std, min, 25%, 50%, 75% og max"
   ]
  },
  {
   "cell_type": "markdown",
   "metadata": {},
   "source": [
    "> **Ex. 7.1.2:** Get the processed data from years 1864-1867 as a list of DataFrames. Convert the list into a single DataFrame by concatenating vertically. "
   ]
  },
  {
   "cell_type": "code",
   "execution_count": 22,
   "metadata": {},
   "outputs": [
    {
     "data": {
      "text/html": [
       "<div>\n",
       "<style scoped>\n",
       "    .dataframe tbody tr th:only-of-type {\n",
       "        vertical-align: middle;\n",
       "    }\n",
       "\n",
       "    .dataframe tbody tr th {\n",
       "        vertical-align: top;\n",
       "    }\n",
       "\n",
       "    .dataframe thead th {\n",
       "        text-align: right;\n",
       "    }\n",
       "</style>\n",
       "<table border=\"1\" class=\"dataframe\">\n",
       "  <thead>\n",
       "    <tr style=\"text-align: right;\">\n",
       "      <th></th>\n",
       "      <th>station</th>\n",
       "      <th>datetime</th>\n",
       "      <th>obs_type</th>\n",
       "      <th>obs_value</th>\n",
       "      <th>TMAX_F</th>\n",
       "      <th>datetime_dt</th>\n",
       "      <th>year</th>\n",
       "    </tr>\n",
       "  </thead>\n",
       "  <tbody>\n",
       "    <tr>\n",
       "      <th>0</th>\n",
       "      <td>SZ000006717</td>\n",
       "      <td>18640226</td>\n",
       "      <td>TMAX</td>\n",
       "      <td>-34.0</td>\n",
       "      <td>-29.20</td>\n",
       "      <td>1864-02-26</td>\n",
       "      <td>1864</td>\n",
       "    </tr>\n",
       "    <tr>\n",
       "      <th>1</th>\n",
       "      <td>SZ000006717</td>\n",
       "      <td>18640208</td>\n",
       "      <td>TMAX</td>\n",
       "      <td>-17.4</td>\n",
       "      <td>0.68</td>\n",
       "      <td>1864-02-08</td>\n",
       "      <td>1864</td>\n",
       "    </tr>\n",
       "    <tr>\n",
       "      <th>2</th>\n",
       "      <td>CA006158350</td>\n",
       "      <td>18640217</td>\n",
       "      <td>TMAX</td>\n",
       "      <td>-16.7</td>\n",
       "      <td>1.94</td>\n",
       "      <td>1864-02-17</td>\n",
       "      <td>1864</td>\n",
       "    </tr>\n",
       "    <tr>\n",
       "      <th>3</th>\n",
       "      <td>SZ000006717</td>\n",
       "      <td>18640103</td>\n",
       "      <td>TMAX</td>\n",
       "      <td>-16.5</td>\n",
       "      <td>2.30</td>\n",
       "      <td>1864-01-03</td>\n",
       "      <td>1864</td>\n",
       "    </tr>\n",
       "    <tr>\n",
       "      <th>4</th>\n",
       "      <td>CA006158350</td>\n",
       "      <td>18640102</td>\n",
       "      <td>TMAX</td>\n",
       "      <td>-16.1</td>\n",
       "      <td>3.02</td>\n",
       "      <td>1864-01-02</td>\n",
       "      <td>1864</td>\n",
       "    </tr>\n",
       "  </tbody>\n",
       "</table>\n",
       "</div>"
      ],
      "text/plain": [
       "       station  datetime obs_type  obs_value  TMAX_F datetime_dt  year\n",
       "0  SZ000006717  18640226     TMAX      -34.0  -29.20  1864-02-26  1864\n",
       "1  SZ000006717  18640208     TMAX      -17.4    0.68  1864-02-08  1864\n",
       "2  CA006158350  18640217     TMAX      -16.7    1.94  1864-02-17  1864\n",
       "3  SZ000006717  18640103     TMAX      -16.5    2.30  1864-01-03  1864\n",
       "4  CA006158350  18640102     TMAX      -16.1    3.02  1864-01-02  1864"
      ]
     },
     "execution_count": 22,
     "metadata": {},
     "output_type": "execute_result"
    }
   ],
   "source": [
    "# [Answer to Ex. 7.1.2]\n",
    "weather_1864_1867 = pd.read_csv('/Users/victoriamariastokholmhundevad/Desktop/Egen kopi 1/material/session_7/weather_data_1864to1867.csv' , sep=\",\")\n",
    "weather_1864_1867.head()"
   ]
  },
  {
   "cell_type": "markdown",
   "metadata": {},
   "source": [
    "> **Ex. 7.1.3:** Parse the station location data which you can find at https://www1.ncdc.noaa.gov/pub/data/ghcn/daily/ghcnd-stations.txt. Merge station locations onto the weather data spanning 1864-1867.  \n",
    "\n",
    "> _Hint:_ The location data have the folllowing format, \n",
    "\n",
    "```\n",
    "------------------------------\n",
    "Variable   Columns   Type\n",
    "------------------------------\n",
    "ID            1-11   Character\n",
    "LATITUDE     13-20   Real\n",
    "LONGITUDE    22-30   Real\n",
    "ELEVATION    32-37   Real\n",
    "STATE        39-40   Character\n",
    "NAME         42-71   Character\n",
    "GSN FLAG     73-75   Character\n",
    "HCN/CRN FLAG 77-79   Character\n",
    "WMO ID       81-85   Character\n",
    "------------------------------\n",
    "```\n",
    "\n",
    "> *Hint*: The station information has fixed width format - does there exist a pandas reader for that?"
   ]
  },
  {
   "cell_type": "code",
   "execution_count": 23,
   "metadata": {},
   "outputs": [
    {
     "name": "stdout",
     "output_type": "stream",
     "text": [
      "       station  datetime obs_type  obs_value  TMAX_F datetime_dt  year  \\\n",
      "0  SZ000006717  18640226     TMAX      -34.0  -29.20  1864-02-26  1864   \n",
      "1  SZ000006717  18640208     TMAX      -17.4    0.68  1864-02-08  1864   \n",
      "2  CA006158350  18640217     TMAX      -16.7    1.94  1864-02-17  1864   \n",
      "3  SZ000006717  18640103     TMAX      -16.5    2.30  1864-01-03  1864   \n",
      "4  CA006158350  18640102     TMAX      -16.1    3.02  1864-01-02  1864   \n",
      "\n",
      "   LATITUDE  LONGITUDE  ELEVATION                  STATION NAME GSN FLAG  \\\n",
      "0   45.8667     7.1667     2472.0  COL DU GRAND ST-BERNARD  NaN      GSN   \n",
      "1   45.8667     7.1667     2472.0  COL DU GRAND ST-BERNARD  NaN      GSN   \n",
      "2   43.6667   -79.4000      113.0                  TORONTO  NaN      NaN   \n",
      "3   45.8667     7.1667     2472.0  COL DU GRAND ST-BERNARD  NaN      GSN   \n",
      "4   43.6667   -79.4000      113.0                  TORONTO  NaN      NaN   \n",
      "\n",
      "   HCN/CRN FLAG  WMO ID  \n",
      "0        6717.0     NaN  \n",
      "1        6717.0     NaN  \n",
      "2       71266.0     NaN  \n",
      "3        6717.0     NaN  \n",
      "4       71266.0     NaN  \n"
     ]
    }
   ],
   "source": [
    "# [Answer to Ex. 7.1.3]\n",
    "station_location = 'https://www1.ncdc.noaa.gov/pub/data/ghcn/daily/ghcnd-stations.txt'\n",
    "col_names = ['station', 'LATITUDE', 'LONGITUDE', 'ELEVATION', 'STATION', 'NAME', 'GSN FLAG', 'HCN/CRN FLAG', 'WMO ID']\n",
    "station_location_df = pd.read_fwf(station_location, header=None, names=col_names) #if the data has fixed\n",
    "#print(station_location_df.head())\n",
    "new_weather = pd.merge(weather_1864_1867, station_location_df, how='left', on=['station'])\n",
    "print(new_weather.head())"
   ]
  },
  {
   "cell_type": "markdown",
   "metadata": {},
   "source": [
    "## Problems from exercise set 8\n",
    "\n",
    "> **Ex. 8.1.2.:** Use the `request` module to collect the first page of job postings and unpack the relevant `json` data into a `pandas` DataFrame."
   ]
  },
  {
   "cell_type": "code",
   "execution_count": 28,
   "metadata": {},
   "outputs": [
    {
     "data": {
      "text/html": [
       "<div>\n",
       "<style scoped>\n",
       "    .dataframe tbody tr th:only-of-type {\n",
       "        vertical-align: middle;\n",
       "    }\n",
       "\n",
       "    .dataframe tbody tr th {\n",
       "        vertical-align: top;\n",
       "    }\n",
       "\n",
       "    .dataframe thead th {\n",
       "        text-align: right;\n",
       "    }\n",
       "</style>\n",
       "<table border=\"1\" class=\"dataframe\">\n",
       "  <thead>\n",
       "    <tr style=\"text-align: right;\">\n",
       "      <th></th>\n",
       "      <th>AnonymousEmployer</th>\n",
       "      <th>AssignmentStartDate</th>\n",
       "      <th>AutomatchType</th>\n",
       "      <th>Country</th>\n",
       "      <th>EmploymentType</th>\n",
       "      <th>HasLocationValues</th>\n",
       "      <th>HiringOrgCVR</th>\n",
       "      <th>HiringOrgName</th>\n",
       "      <th>ID</th>\n",
       "      <th>IsExternal</th>\n",
       "      <th>...</th>\n",
       "      <th>UseWorkPlaceAddressForJoblog</th>\n",
       "      <th>Weight</th>\n",
       "      <th>WorkHours</th>\n",
       "      <th>WorkPlaceAbroad</th>\n",
       "      <th>WorkPlaceAddress</th>\n",
       "      <th>WorkPlaceCity</th>\n",
       "      <th>WorkPlaceNotStatic</th>\n",
       "      <th>WorkPlaceOtherAddress</th>\n",
       "      <th>WorkPlacePostalCode</th>\n",
       "      <th>WorkplaceID</th>\n",
       "    </tr>\n",
       "  </thead>\n",
       "  <tbody>\n",
       "    <tr>\n",
       "      <th>0</th>\n",
       "      <td>False</td>\n",
       "      <td>0001-01-01T00:00:00</td>\n",
       "      <td>0</td>\n",
       "      <td>Danmark</td>\n",
       "      <td></td>\n",
       "      <td>True</td>\n",
       "      <td>32139647</td>\n",
       "      <td>POWER PEOPLE DANMARK ApS</td>\n",
       "      <td>4831880</td>\n",
       "      <td>False</td>\n",
       "      <td>...</td>\n",
       "      <td>False</td>\n",
       "      <td>1.0</td>\n",
       "      <td>Fuldtid</td>\n",
       "      <td>False</td>\n",
       "      <td></td>\n",
       "      <td></td>\n",
       "      <td>False</td>\n",
       "      <td>True</td>\n",
       "      <td></td>\n",
       "      <td>82395</td>\n",
       "    </tr>\n",
       "    <tr>\n",
       "      <th>1</th>\n",
       "      <td>False</td>\n",
       "      <td>0001-01-01T00:00:00</td>\n",
       "      <td>0</td>\n",
       "      <td>Danmark</td>\n",
       "      <td></td>\n",
       "      <td>True</td>\n",
       "      <td>29810788</td>\n",
       "      <td>KRYB-I-LY A/S</td>\n",
       "      <td>4851508</td>\n",
       "      <td>False</td>\n",
       "      <td>...</td>\n",
       "      <td>True</td>\n",
       "      <td>1.0</td>\n",
       "      <td>Fuldtid</td>\n",
       "      <td>False</td>\n",
       "      <td>Kolding Landevej 160</td>\n",
       "      <td>Fredericia</td>\n",
       "      <td>False</td>\n",
       "      <td>False</td>\n",
       "      <td>7000</td>\n",
       "      <td>67143</td>\n",
       "    </tr>\n",
       "    <tr>\n",
       "      <th>2</th>\n",
       "      <td>False</td>\n",
       "      <td>0001-01-01T00:00:00</td>\n",
       "      <td>0</td>\n",
       "      <td>Danmark</td>\n",
       "      <td></td>\n",
       "      <td>True</td>\n",
       "      <td>31544483</td>\n",
       "      <td>Café 18</td>\n",
       "      <td>4861474</td>\n",
       "      <td>False</td>\n",
       "      <td>...</td>\n",
       "      <td>True</td>\n",
       "      <td>1.0</td>\n",
       "      <td>Deltid</td>\n",
       "      <td>False</td>\n",
       "      <td>Krystalgade 18</td>\n",
       "      <td>Rønne</td>\n",
       "      <td>False</td>\n",
       "      <td>False</td>\n",
       "      <td>3700</td>\n",
       "      <td>0</td>\n",
       "    </tr>\n",
       "    <tr>\n",
       "      <th>3</th>\n",
       "      <td>False</td>\n",
       "      <td>0001-01-01T00:00:00</td>\n",
       "      <td>0</td>\n",
       "      <td>Danmark</td>\n",
       "      <td></td>\n",
       "      <td>True</td>\n",
       "      <td>30982894</td>\n",
       "      <td>GG Ejendomsservice v/Mogens van der Goot</td>\n",
       "      <td>4830239</td>\n",
       "      <td>False</td>\n",
       "      <td>...</td>\n",
       "      <td>False</td>\n",
       "      <td>1.0</td>\n",
       "      <td>Fuldtid</td>\n",
       "      <td>False</td>\n",
       "      <td></td>\n",
       "      <td></td>\n",
       "      <td>True</td>\n",
       "      <td>False</td>\n",
       "      <td></td>\n",
       "      <td>92386</td>\n",
       "    </tr>\n",
       "    <tr>\n",
       "      <th>4</th>\n",
       "      <td>False</td>\n",
       "      <td>0001-01-01T00:00:00</td>\n",
       "      <td>0</td>\n",
       "      <td>Danmark</td>\n",
       "      <td></td>\n",
       "      <td>True</td>\n",
       "      <td>38661280</td>\n",
       "      <td>Keeperz ApS</td>\n",
       "      <td>4842917</td>\n",
       "      <td>False</td>\n",
       "      <td>...</td>\n",
       "      <td>True</td>\n",
       "      <td>1.0</td>\n",
       "      <td>Deltid</td>\n",
       "      <td>False</td>\n",
       "      <td>Edvard Thomsens Vej 63</td>\n",
       "      <td>København S</td>\n",
       "      <td>False</td>\n",
       "      <td>False</td>\n",
       "      <td>2300</td>\n",
       "      <td>122935</td>\n",
       "    </tr>\n",
       "  </tbody>\n",
       "</table>\n",
       "<p>5 rows × 42 columns</p>\n",
       "</div>"
      ],
      "text/plain": [
       "   AnonymousEmployer  AssignmentStartDate  AutomatchType  Country  \\\n",
       "0              False  0001-01-01T00:00:00              0  Danmark   \n",
       "1              False  0001-01-01T00:00:00              0  Danmark   \n",
       "2              False  0001-01-01T00:00:00              0  Danmark   \n",
       "3              False  0001-01-01T00:00:00              0  Danmark   \n",
       "4              False  0001-01-01T00:00:00              0  Danmark   \n",
       "\n",
       "  EmploymentType  HasLocationValues  HiringOrgCVR  \\\n",
       "0                              True      32139647   \n",
       "1                              True      29810788   \n",
       "2                              True      31544483   \n",
       "3                              True      30982894   \n",
       "4                              True      38661280   \n",
       "\n",
       "                              HiringOrgName       ID  IsExternal     ...      \\\n",
       "0                  POWER PEOPLE DANMARK ApS  4831880       False     ...       \n",
       "1                             KRYB-I-LY A/S  4851508       False     ...       \n",
       "2                                   Café 18  4861474       False     ...       \n",
       "3  GG Ejendomsservice v/Mogens van der Goot  4830239       False     ...       \n",
       "4                               Keeperz ApS  4842917       False     ...       \n",
       "\n",
       "   UseWorkPlaceAddressForJoblog Weight WorkHours WorkPlaceAbroad  \\\n",
       "0                         False    1.0   Fuldtid           False   \n",
       "1                          True    1.0   Fuldtid           False   \n",
       "2                          True    1.0    Deltid           False   \n",
       "3                         False    1.0   Fuldtid           False   \n",
       "4                          True    1.0    Deltid           False   \n",
       "\n",
       "         WorkPlaceAddress WorkPlaceCity  WorkPlaceNotStatic  \\\n",
       "0                                                     False   \n",
       "1    Kolding Landevej 160    Fredericia               False   \n",
       "2          Krystalgade 18         Rønne               False   \n",
       "3                                                      True   \n",
       "4  Edvard Thomsens Vej 63   København S               False   \n",
       "\n",
       "  WorkPlaceOtherAddress  WorkPlacePostalCode WorkplaceID  \n",
       "0                  True                            82395  \n",
       "1                 False                 7000       67143  \n",
       "2                 False                 3700           0  \n",
       "3                 False                            92386  \n",
       "4                 False                 2300      122935  \n",
       "\n",
       "[5 rows x 42 columns]"
      ]
     },
     "execution_count": 28,
     "metadata": {},
     "output_type": "execute_result"
    }
   ],
   "source": [
    "# [Answer to Ex. 8.1.2]\n",
    "import requests \n",
    "import json\n",
    "import pandas as pd\n",
    "from pandas.io.json import json_normalize\n",
    "url = 'https://job.jobnet.dk/CV/FindWork/Search'\n",
    "response = requests.get(url)\n",
    "d = requests.get(url).json()\n",
    "d.keys()\n",
    "jobnet_JPP = d['JobPositionPostings']\n",
    "\n",
    "jobnet_dataframe = pd.DataFrame(jobnet_JPP) #sådan konverteres den til dataframe\n",
    "jobnet_dataframe.head()\n"
   ]
  },
  {
   "cell_type": "markdown",
   "metadata": {},
   "source": [
    "> **Ex. 8.1.3.:** Store and print the 'TotalResultCount' value for later use. Also create a dataframe from the 'JobPositionPostings' field in the json. "
   ]
  },
  {
   "cell_type": "code",
   "execution_count": 29,
   "metadata": {},
   "outputs": [
    {
     "data": {
      "text/plain": [
       "16004"
      ]
     },
     "execution_count": 29,
     "metadata": {},
     "output_type": "execute_result"
    }
   ],
   "source": [
    "# [Answer to Ex. 8.1.3]\n",
    "trc = d['TotalResultCount']\n",
    "trc"
   ]
  },
  {
   "cell_type": "markdown",
   "metadata": {},
   "source": [
    "## Problems from exercise set 9\n",
    "\n",
    "> **Ex. 9.2.1:** Load the data used in the exercise using the `pd.read_csv` function. (Hint: path to file can be both a url or systempath). \n",
    "\n",
    ">Define a variable `sample_string = '\\n'.join(df.sample(2000).reviewBody)` as sample of all the reviews that you will practice on.  (Run it once in a while to get a new sample for potential differences).\n",
    "Imagine we were a company wanting to find the reviews where customers are concerned with the price of a service. They decide to write a regular expression to match all reviews where a currencies and an amount is mentioned. "
   ]
  },
  {
   "cell_type": "code",
   "execution_count": null,
   "metadata": {},
   "outputs": [],
   "source": [
    "# [Answer to Ex. 9.2.1]"
   ]
  },
  {
   "cell_type": "markdown",
   "metadata": {},
   "source": [
    "> **Ex. 9.2.2:** \n",
    "> Write an expression that matches both the dollar-sign (\\$) and dollar written literally, and the amount before or after a dollar-sign. Remember that the \"$\"-sign is a special character in regular expressions. Explore and refine using the explore_pattern function in the package I created called explore_regex. \n",
    "```python\n",
    "import explore_regex as e_re\n",
    "explore_regex = e_re.Explore_Regex(sample_string) # Initaizlie the Explore regex Class.\n",
    "explore_regex.explore_pattern(pattern) # Use the .explore_pattern method.\n",
    "```\n",
    "\n",
    "\n",
    "Start with exploring the context around digits (\"\\d\") in the data. "
   ]
  },
  {
   "cell_type": "code",
   "execution_count": null,
   "metadata": {},
   "outputs": [],
   "source": [
    "# [Answer to Ex. 9.2.2]"
   ]
  },
  {
   "cell_type": "markdown",
   "metadata": {},
   "source": [
    "> **Ex.9.2.3** Use the .report() method. e_re.report(), and print the all patterns in the development process using the .pattern method - i.e. e_re.patterns "
   ]
  },
  {
   "cell_type": "code",
   "execution_count": null,
   "metadata": {},
   "outputs": [],
   "source": [
    "# [Answer to Ex. 9.2.3]"
   ]
  }
 ],
 "metadata": {
  "kernelspec": {
   "display_name": "Python 3",
   "language": "python",
   "name": "python3"
  },
  "language_info": {
   "codemirror_mode": {
    "name": "ipython",
    "version": 3
   },
   "file_extension": ".py",
   "mimetype": "text/x-python",
   "name": "python",
   "nbconvert_exporter": "python",
   "pygments_lexer": "ipython3",
   "version": "3.6.5"
  }
 },
 "nbformat": 4,
 "nbformat_minor": 2
}
